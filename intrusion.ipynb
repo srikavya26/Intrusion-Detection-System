{
  "nbformat": 4,
  "nbformat_minor": 0,
  "metadata": {
    "colab": {
      "provenance": [],
      "authorship_tag": "ABX9TyN9LYngKEA+p94hS7PzfqV/",
      "include_colab_link": true
    },
    "kernelspec": {
      "name": "python3",
      "display_name": "Python 3"
    },
    "language_info": {
      "name": "python"
    }
  },
  "cells": [
    {
      "cell_type": "markdown",
      "metadata": {
        "id": "view-in-github",
        "colab_type": "text"
      },
      "source": [
        "<a href=\"https://colab.research.google.com/github/srikavya26/Real-Time-Intrusion-Detection-System/blob/main/intrusion.ipynb\" target=\"_parent\"><img src=\"https://colab.research.google.com/assets/colab-badge.svg\" alt=\"Open In Colab\"/></a>"
      ]
    },
    {
      "cell_type": "markdown",
      "metadata": {
        "id": "tGLYJuXmFBZI"
      },
      "source": [
        "# Intrusion Detection System using Machine Learning"
      ]
    },
    {
      "cell_type": "code",
      "execution_count": null,
      "metadata": {
        "id": "hJVAToeYFV2Q"
      },
      "outputs": [],
      "source": [
        "import pandas as pd\n",
        "import numpy as np\n",
        "from sklearn import preprocessing\n",
        "import matplotlib.pyplot as plt\n",
        "%matplotlib inline"
      ]
    },
    {
      "cell_type": "code",
      "execution_count": null,
      "metadata": {
        "id": "dJC9nPhd9Q_g",
        "outputId": "85f6f86e-f6aa-43c7-b388-9492343ecee7",
        "colab": {
          "base_uri": "https://localhost:8080/"
        }
      },
      "outputs": [
        {
          "output_type": "stream",
          "name": "stdout",
          "text": [
            "Mounted at /content/drive\n"
          ]
        }
      ],
      "source": [
        "from google.colab import drive\n",
        "drive.mount('/content/drive')"
      ]
    },
    {
      "cell_type": "code",
      "execution_count": null,
      "metadata": {
        "id": "yIqeKHKYGCoz"
      },
      "outputs": [],
      "source": [
        "df = pd.read_csv('/content/drive/MyDrive/Thursday-WorkingHours-Morning-WebAttacks.pcap_ISCX.csv', engine='python',encoding='latin1')"
      ]
    },
    {
      "cell_type": "code",
      "execution_count": null,
      "metadata": {
        "id": "QMkibc_W4hpQ"
      },
      "outputs": [],
      "source": [
        "df.shape"
      ]
    },
    {
      "cell_type": "code",
      "execution_count": null,
      "metadata": {
        "id": "83UFLCVlhjKF"
      },
      "outputs": [],
      "source": [
        "df.columns = df.columns.str.strip()\n",
        "df = df.drop(columns=['Fwd Header Length.1'])\n",
        "df.shape"
      ]
    },
    {
      "cell_type": "code",
      "execution_count": null,
      "metadata": {
        "id": "HrGLjk5nhrGE"
      },
      "outputs": [],
      "source": [
        "df['Label'].unique()"
      ]
    },
    {
      "cell_type": "code",
      "execution_count": null,
      "metadata": {
        "colab": {
          "base_uri": "https://localhost:8080/"
        },
        "id": "HnpQqQ8fhxwN",
        "outputId": "16ac6e0d-0058-4e3a-d591-afb62c782662"
      },
      "outputs": [
        {
          "output_type": "execute_result",
          "data": {
            "text/plain": [
              "BENIGN                        168186\n",
              "Web Attack  Brute Force        1507\n",
              "Web Attack  XSS                 652\n",
              "Web Attack  Sql Injection        21\n",
              "Name: Label, dtype: int64"
            ]
          },
          "metadata": {},
          "execution_count": 10
        }
      ],
      "source": [
        "df['Label'].value_counts()"
      ]
    },
    {
      "cell_type": "code",
      "execution_count": null,
      "metadata": {
        "colab": {
          "base_uri": "https://localhost:8080/"
        },
        "id": "7ltfHW8dh7Tw",
        "outputId": "9f354e03-4258-4097-a891-3921122ae027"
      },
      "outputs": [
        {
          "output_type": "execute_result",
          "data": {
            "text/plain": [
              "(170366, 84)"
            ]
          },
          "metadata": {},
          "execution_count": 11
        }
      ],
      "source": [
        "df = df.drop(df[pd.isnull(df['Flow ID'])].index)\n",
        "df.shape"
      ]
    },
    {
      "cell_type": "code",
      "execution_count": null,
      "metadata": {
        "id": "mZ2ffToLi02x"
      },
      "outputs": [],
      "source": [
        "df.replace('Infinity', -1, inplace=True)\n",
        "df[[\"Flow Bytes/s\", \"Flow Packets/s\"]] = df[[\"Flow Bytes/s\", \"Flow Packets/s\"]].apply(pd.to_numeric)"
      ]
    },
    {
      "cell_type": "code",
      "execution_count": null,
      "metadata": {
        "id": "slqexps-G90O"
      },
      "outputs": [],
      "source": [
        "df.replace([np.inf, -np.inf, np.nan], -1, inplace=True)"
      ]
    },
    {
      "cell_type": "code",
      "execution_count": null,
      "metadata": {
        "colab": {
          "base_uri": "https://localhost:8080/"
        },
        "id": "XmYOMG0Ti8Wh",
        "outputId": "1cca0f24-0f4e-40ba-890f-2ee4ccae62a1"
      },
      "outputs": [
        {
          "output_type": "execute_result",
          "data": {
            "text/plain": [
              "['Flow ID', 'Source IP', 'Destination IP', 'Timestamp']"
            ]
          },
          "metadata": {},
          "execution_count": 14
        }
      ],
      "source": [
        "string_features = list(df.select_dtypes(include=['object']).columns)\n",
        "string_features.remove('Label')\n",
        "string_features"
      ]
    },
    {
      "cell_type": "code",
      "execution_count": null,
      "metadata": {
        "colab": {
          "base_uri": "https://localhost:8080/"
        },
        "id": "7K7iWbNMjWrZ",
        "outputId": "43792764-c525-47ae-a6fe-c1924abb27fa"
      },
      "outputs": [
        {
          "output_type": "execute_result",
          "data": {
            "text/plain": [
              "168186"
            ]
          },
          "metadata": {},
          "execution_count": 15
        }
      ],
      "source": [
        "benign_total = len(df[df['Label'] == \"BENIGN\"])\n",
        "benign_total"
      ]
    },
    {
      "cell_type": "code",
      "execution_count": null,
      "metadata": {
        "colab": {
          "base_uri": "https://localhost:8080/"
        },
        "id": "nVs_xEHFjY5q",
        "outputId": "369c4bed-de75-48de-d4c6-9f06ccc82fe0"
      },
      "outputs": [
        {
          "output_type": "execute_result",
          "data": {
            "text/plain": [
              "2180"
            ]
          },
          "metadata": {},
          "execution_count": 16
        }
      ],
      "source": [
        "attack_total = len(df[df['Label'] != \"BENIGN\"])\n",
        "attack_total"
      ]
    },
    {
      "cell_type": "code",
      "execution_count": null,
      "metadata": {
        "colab": {
          "base_uri": "https://localhost:8080/"
        },
        "id": "PFvPOea2jhMt",
        "outputId": "29df82a0-16b5-4fee-b760-c3f816629d99"
      },
      "outputs": [
        {
          "output_type": "execute_result",
          "data": {
            "text/plain": [
              "BENIGN                        168186\n",
              "Web Attack  Brute Force        1507\n",
              "Web Attack  XSS                 652\n",
              "Web Attack  Sql Injection        21\n",
              "Name: Label, dtype: int64"
            ]
          },
          "metadata": {},
          "execution_count": 17
        }
      ],
      "source": [
        "df.to_csv(\"web_attacks_unbalanced.csv\", index=False)\n",
        "df['Label'].value_counts()"
      ]
    },
    {
      "cell_type": "code",
      "execution_count": null,
      "metadata": {
        "colab": {
          "base_uri": "https://localhost:8080/"
        },
        "id": "XaW7sEjHkB3K",
        "outputId": "41753719-94c4-4f64-8465-03ac79f689da"
      },
      "outputs": [
        {
          "output_type": "stream",
          "name": "stdout",
          "text": [
            "5086.666666666667 0.03326872232726466\n"
          ]
        }
      ],
      "source": [
        "enlargement = 1.1\n",
        "benign_included_max = attack_total / 30 * 70\n",
        "benign_inc_probability = (benign_included_max / benign_total) * enlargement\n",
        "print(benign_included_max, benign_inc_probability)"
      ]
    },
    {
      "cell_type": "code",
      "execution_count": null,
      "metadata": {
        "id": "0MdiMPmdkICk"
      },
      "outputs": [],
      "source": [
        "import random\n",
        "indexes = []\n",
        "benign_included_count = 0\n",
        "for index, row in df.iterrows():\n",
        "    if (row['Label'] != \"BENIGN\"):\n",
        "        indexes.append(index)\n",
        "    else:\n",
        "        # Copying with benign_inc_probability\n",
        "        if random.random() > benign_inc_probability: continue\n",
        "        # Have we achieved 70% (5087 records)?\n",
        "        if benign_included_count > benign_included_max: continue\n",
        "        benign_included_count += 1\n",
        "        indexes.append(index)\n",
        "df_balanced = df.loc[indexes]"
      ]
    },
    {
      "cell_type": "code",
      "execution_count": null,
      "metadata": {
        "colab": {
          "base_uri": "https://localhost:8080/"
        },
        "id": "cqypBDIdkKN4",
        "outputId": "d0994e97-f6d7-43b3-e88d-7b32eeb27ad0"
      },
      "outputs": [
        {
          "output_type": "execute_result",
          "data": {
            "text/plain": [
              "BENIGN                        5087\n",
              "Web Attack  Brute Force      1507\n",
              "Web Attack  XSS               652\n",
              "Web Attack  Sql Injection      21\n",
              "Name: Label, dtype: int64"
            ]
          },
          "metadata": {},
          "execution_count": 20
        }
      ],
      "source": [
        "df_balanced['Label'].value_counts()"
      ]
    },
    {
      "cell_type": "code",
      "execution_count": null,
      "metadata": {
        "id": "qiYFzlGkkSXe"
      },
      "outputs": [],
      "source": [
        "df_balanced.to_csv(\"web_attacks_balanced.csv\", index=False)"
      ]
    },
    {
      "cell_type": "markdown",
      "metadata": {
        "id": "-IEyQxBDt5sG"
      },
      "source": [
        "### Preparing data for training"
      ]
    },
    {
      "cell_type": "code",
      "execution_count": null,
      "metadata": {
        "id": "Tzh_VeMxG90Q"
      },
      "outputs": [],
      "source": [
        "df = pd.read_csv('web_attacks_balanced.csv')"
      ]
    },
    {
      "cell_type": "markdown",
      "metadata": {
        "id": "VUzX8qusG90Q"
      },
      "source": [
        "The Label column is encoded as follows: \"BENIGN\" = 0, attack = 1."
      ]
    },
    {
      "cell_type": "code",
      "execution_count": null,
      "metadata": {
        "id": "-DHVr6VAG90Q"
      },
      "outputs": [],
      "source": [
        "df['Label'] = df['Label'].apply(lambda x: 0 if x == 'BENIGN' else 1)"
      ]
    },
    {
      "cell_type": "code",
      "execution_count": null,
      "metadata": {
        "id": "8yza95R2t_1N"
      },
      "outputs": [],
      "source": [
        "excluded = ['Flow ID', 'Source IP', 'Source Port', 'Destination IP', 'Destination Port', 'Protocol', 'Timestamp']\n",
        "df = df.drop(columns=excluded, errors='ignore')"
      ]
    },
    {
      "cell_type": "code",
      "execution_count": null,
      "metadata": {
        "colab": {
          "base_uri": "https://localhost:8080/",
          "height": 295
        },
        "id": "lYhtGKqJuUQA",
        "outputId": "640b8735-1a17-4601-8937-3e1ad8e56069"
      },
      "outputs": [
        {
          "output_type": "display_data",
          "data": {
            "text/plain": [
              "<Figure size 432x288 with 1 Axes>"
            ],
            "image/png": "[encoded data removed]"
          },
          "metadata": {
            "needs_background": "light"
          }
        }
      ],
      "source": [
        "if 'Init_Win_bytes_backward' in df.columns:\n",
        "    df['Init_Win_bytes_backward'].hist(figsize=(6,4), bins=10);\n",
        "    plt.title(\"Init_Win_bytes_backward\")\n",
        "    plt.xlabel(\"Value bins\")\n",
        "    plt.ylabel(\"Density\")\n",
        "    plt.savefig('Init_Win_bytes_backward.png', dpi=300)"
      ]
    },
    {
      "cell_type": "code",
      "execution_count": null,
      "metadata": {
        "colab": {
          "base_uri": "https://localhost:8080/",
          "height": 295
        },
        "id": "XPbBcbj_uYMV",
        "outputId": "1fa01b6b-cecd-4454-ec34-6308b9e9d9be"
      },
      "outputs": [
        {
          "output_type": "display_data",
          "data": {
            "text/plain": [
              "<Figure size 432x288 with 1 Axes>"
            ],
            "image/png": "[encoded data removed]"
          },
          "metadata": {
            "needs_background": "light"
          }
        }
      ],
      "source": [
        "if 'Init_Win_bytes_forward' in df.columns:\n",
        "    df['Init_Win_bytes_forward'].hist(figsize=(6,4), bins=10);\n",
        "    plt.title(\"Init_Win_bytes_forward\")\n",
        "    plt.xlabel(\"Value bins\")\n",
        "    plt.ylabel(\"Density\")\n",
        "    plt.savefig('Init_Win_bytes_forward.png', dpi=300)"
      ]
    },
    {
      "cell_type": "code",
      "execution_count": null,
      "metadata": {
        "id": "Uw6liMMducM5"
      },
      "outputs": [],
      "source": [
        "excluded2 = ['Init_Win_bytes_backward', 'Init_Win_bytes_forward']\n",
        "df = df.drop(columns=excluded2, errors='ignore')"
      ]
    },
    {
      "cell_type": "code",
      "execution_count": null,
      "metadata": {
        "colab": {
          "base_uri": "https://localhost:8080/"
        },
        "id": "a-FDOBmOufo6",
        "outputId": "dafb3f77-48d1-449e-883f-736b23da563d"
      },
      "outputs": [
        {
          "output_type": "stream",
          "name": "stdout",
          "text": [
            "(7267, 74) (7267,)\n"
          ]
        }
      ],
      "source": [
        "y = df['Label'].values\n",
        "X = df.drop(columns=['Label'])\n",
        "print(X.shape, y.shape)"
      ]
    },
    {
      "cell_type": "code",
      "execution_count": null,
      "metadata": {
        "colab": {
          "base_uri": "https://localhost:8080/"
        },
        "id": "4BbvfnjTuzeX",
        "outputId": "f0476155-9cd4-40d4-e336-4adcef814702"
      },
      "outputs": [
        {
          "output_type": "execute_result",
          "data": {
            "text/plain": [
              "{0: 3559, 1: 1527}"
            ]
          },
          "metadata": {},
          "execution_count": 29
        }
      ],
      "source": [
        "from sklearn.model_selection import train_test_split\n",
        "X_train, X_test, y_train, y_test = train_test_split(X, y, test_size=0.3, random_state=0)\n",
        "\n",
        "unique, counts = np.unique(y_train, return_counts=True)\n",
        "dict(zip(unique, counts))"
      ]
    },
    {
      "cell_type": "markdown",
      "metadata": {
        "id": "wE4AwrX1u6Hj"
      },
      "source": [
        "###DecisionTreeClassifier\n",
        "\n"
      ]
    },
    {
      "cell_type": "code",
      "execution_count": null,
      "metadata": {
        "colab": {
          "base_uri": "https://localhost:8080/"
        },
        "id": "JtVUvneuyAeI",
        "outputId": "09e39edb-b2e5-4fd7-f684-e7d1798a5afc"
      },
      "outputs": [
        {
          "output_type": "execute_result",
          "data": {
            "text/plain": [
              "array([0.95088409, 0.96856582, 0.956778  , 0.96856582, 0.95874263,\n",
              "       0.95481336, 0.96653543, 0.95866142, 0.95275591, 0.95866142])"
            ]
          },
          "metadata": {},
          "execution_count": 65
        }
      ],
      "source": [
        "from sklearn.model_selection import cross_val_score\n",
        "from sklearn.tree import DecisionTreeClassifier\n",
        "decision_tree = DecisionTreeClassifier(max_leaf_nodes=5, random_state=0)\n",
        "decision_tree = decision_tree.fit(X_train, y_train)\n",
        "cross_val_score(decision_tree, X_train, y_train, cv=10)"
      ]
    },
    {
      "cell_type": "code",
      "execution_count": null,
      "metadata": {
        "colab": {
          "base_uri": "https://localhost:8080/"
        },
        "id": "cITpkfwyCqqU",
        "outputId": "02f611c0-13b5-4347-f80a-6cb43c0218c9"
      },
      "outputs": [
        {
          "output_type": "stream",
          "name": "stdout",
          "text": [
            "|--- Average Packet Size <= 1.00\n",
            "|   |--- Fwd IAT Std <= 3439176.00\n",
            "|   |   |--- class: 0\n",
            "|   |--- Fwd IAT Std >  3439176.00\n",
            "|   |   |--- Fwd IAT Min <= 9652.50\n",
            "|   |   |   |--- class: 1\n",
            "|   |   |--- Fwd IAT Min >  9652.50\n",
            "|   |   |   |--- class: 0\n",
            "|--- Average Packet Size >  1.00\n",
            "|   |--- Total Length of Fwd Packets <= 36594.00\n",
            "|   |   |--- class: 0\n",
            "|   |--- Total Length of Fwd Packets >  36594.00\n",
            "|   |   |--- class: 1\n",
            "\n"
          ]
        }
      ],
      "source": [
        "from sklearn.tree import export_text\n",
        "r = export_text(decision_tree, feature_names=X_train.columns.to_list())\n",
        "print(r)"
      ]
    },
    {
      "cell_type": "code",
      "execution_count": null,
      "metadata": {
        "colab": {
          "base_uri": "https://localhost:8080/",
          "height": 518
        },
        "id": "6xpZlcv_-J_W",
        "outputId": "a01947a6-748d-454f-be65-a0a66c01b63a"
      },
      "outputs": [
        {
          "output_type": "execute_result",
          "data": {
            "text/plain": [
              "<graphviz.files.Source at 0x7f98e85402d0>"
            ],
            "image/svg+xml": "<?xml version=\"1.0\" encoding=\"UTF-8\" standalone=\"no\"?>\n<!DOCTYPE svg PUBLIC \"-//W3C//DTD SVG 1.1//EN\"\n \"http://www.w3.org/Graphics/SVG/1.1/DTD/svg11.dtd\">\n<!-- Generated by graphviz version 2.40.1 (20161225.0304)\n -->\n<!-- Title: Tree Pages: 1 -->\n<svg width=\"642pt\" height=\"373pt\"\n viewBox=\"0.00 0.00 641.50 373.00\" xmlns=\"http://www.w3.org/2000/svg\" xmlns:xlink=\"http://www.w3.org/1999/xlink\">\n<g id=\"graph0\" class=\"graph\" transform=\"scale(1 1) rotate(0) translate(4 369)\">\n<title>Tree</title>\n<polygon fill=\"#ffffff\" stroke=\"transparent\" points=\"-4,4 -4,-369 637.5,-369 637.5,4 -4,4\"/>\n<!-- 0 -->\n<g id=\"node1\" class=\"node\">\n<title>0</title>\n<polygon fill=\"none\" stroke=\"#000000\" points=\"435.5,-365 238.5,-365 238.5,-297 435.5,-297 435.5,-365\"/>\n<text text-anchor=\"middle\" x=\"337\" y=\"-349.8\" font-family=\"Helvetica,sans-Serif\" font-size=\"14.00\" fill=\"#000000\">Average Packet Size &lt;= 1.0</text>\n<text text-anchor=\"middle\" x=\"337\" y=\"-334.8\" font-family=\"Helvetica,sans-Serif\" font-size=\"14.00\" fill=\"#000000\">gini = 0.422</text>\n<text text-anchor=\"middle\" x=\"337\" y=\"-319.8\" font-family=\"Helvetica,sans-Serif\" font-size=\"14.00\" fill=\"#000000\">samples = 5086</text>\n<text text-anchor=\"middle\" x=\"337\" y=\"-304.8\" font-family=\"Helvetica,sans-Serif\" font-size=\"14.00\" fill=\"#000000\">value = [3549, 1537]</text>\n</g>\n<!-- 1 -->\n<g id=\"node2\" class=\"node\">\n<title>1</title>\n<polygon fill=\"none\" stroke=\"#000000\" points=\"306.5,-261 117.5,-261 117.5,-193 306.5,-193 306.5,-261\"/>\n<text text-anchor=\"middle\" x=\"212\" y=\"-245.8\" font-family=\"Helvetica,sans-Serif\" font-size=\"14.00\" fill=\"#000000\">Fwd IAT Std &lt;= 3439176.0</text>\n<text text-anchor=\"middle\" x=\"212\" y=\"-230.8\" font-family=\"Helvetica,sans-Serif\" font-size=\"14.00\" fill=\"#000000\">gini = 0.311</text>\n<text text-anchor=\"middle\" x=\"212\" y=\"-215.8\" font-family=\"Helvetica,sans-Serif\" font-size=\"14.00\" fill=\"#000000\">samples = 1748</text>\n<text text-anchor=\"middle\" x=\"212\" y=\"-200.8\" font-family=\"Helvetica,sans-Serif\" font-size=\"14.00\" fill=\"#000000\">value = [336, 1412]</text>\n</g>\n<!-- 0&#45;&gt;1 -->\n<g id=\"edge1\" class=\"edge\">\n<title>0&#45;&gt;1</title>\n<path fill=\"none\" stroke=\"#000000\" d=\"M296.0703,-296.9465C284.8472,-287.6088 272.5663,-277.3911 260.9427,-267.7203\"/>\n<polygon fill=\"#000000\" stroke=\"#000000\" points=\"262.9474,-264.8353 253.0216,-261.13 258.4704,-270.2164 262.9474,-264.8353\"/>\n<text text-anchor=\"middle\" x=\"255.3046\" y=\"-282.3255\" font-family=\"Helvetica,sans-Serif\" font-size=\"14.00\" fill=\"#000000\">True</text>\n</g>\n<!-- 2 -->\n<g id=\"node7\" class=\"node\">\n<title>2</title>\n<polygon fill=\"none\" stroke=\"#000000\" points=\"601.5,-261 324.5,-261 324.5,-193 601.5,-193 601.5,-261\"/>\n<text text-anchor=\"middle\" x=\"463\" y=\"-245.8\" font-family=\"Helvetica,sans-Serif\" font-size=\"14.00\" fill=\"#000000\">Total Length of Fwd Packets &lt;= 36594.0</text>\n<text text-anchor=\"middle\" x=\"463\" y=\"-230.8\" font-family=\"Helvetica,sans-Serif\" font-size=\"14.00\" fill=\"#000000\">gini = 0.072</text>\n<text text-anchor=\"middle\" x=\"463\" y=\"-215.8\" font-family=\"Helvetica,sans-Serif\" font-size=\"14.00\" fill=\"#000000\">samples = 3338</text>\n<text text-anchor=\"middle\" x=\"463\" y=\"-200.8\" font-family=\"Helvetica,sans-Serif\" font-size=\"14.00\" fill=\"#000000\">value = [3213, 125]</text>\n</g>\n<!-- 0&#45;&gt;2 -->\n<g id=\"edge6\" class=\"edge\">\n<title>0&#45;&gt;2</title>\n<path fill=\"none\" stroke=\"#000000\" d=\"M378.2571,-296.9465C389.5701,-287.6088 401.9492,-277.3911 413.6658,-267.7203\"/>\n<polygon fill=\"#000000\" stroke=\"#000000\" points=\"416.1659,-270.195 421.6502,-261.13 411.71,-264.7964 416.1659,-270.195\"/>\n<text text-anchor=\"middle\" x=\"419.2698\" y=\"-282.3164\" font-family=\"Helvetica,sans-Serif\" font-size=\"14.00\" fill=\"#000000\">False</text>\n</g>\n<!-- 3 -->\n<g id=\"node3\" class=\"node\">\n<title>3</title>\n<polygon fill=\"none\" stroke=\"#000000\" points=\"132,-149.5 0,-149.5 0,-96.5 132,-96.5 132,-149.5\"/>\n<text text-anchor=\"middle\" x=\"66\" y=\"-134.3\" font-family=\"Helvetica,sans-Serif\" font-size=\"14.00\" fill=\"#000000\">gini = 0.417</text>\n<text text-anchor=\"middle\" x=\"66\" y=\"-119.3\" font-family=\"Helvetica,sans-Serif\" font-size=\"14.00\" fill=\"#000000\">samples = 452</text>\n<text text-anchor=\"middle\" x=\"66\" y=\"-104.3\" font-family=\"Helvetica,sans-Serif\" font-size=\"14.00\" fill=\"#000000\">value = [318, 134]</text>\n</g>\n<!-- 1&#45;&gt;3 -->\n<g id=\"edge2\" class=\"edge\">\n<title>1&#45;&gt;3</title>\n<path fill=\"none\" stroke=\"#000000\" d=\"M164.1941,-192.9465C147.3392,-180.9403 128.4419,-167.4791 111.7601,-155.5962\"/>\n<polygon fill=\"#000000\" stroke=\"#000000\" points=\"113.4367,-152.4933 103.2611,-149.5422 109.3753,-158.1947 113.4367,-152.4933\"/>\n</g>\n<!-- 4 -->\n<g id=\"node4\" class=\"node\">\n<title>4</title>\n<polygon fill=\"none\" stroke=\"#000000\" points=\"316,-157 150,-157 150,-89 316,-89 316,-157\"/>\n<text text-anchor=\"middle\" x=\"233\" y=\"-141.8\" font-family=\"Helvetica,sans-Serif\" font-size=\"14.00\" fill=\"#000000\">Fwd IAT Min &lt;= 9652.5</text>\n<text text-anchor=\"middle\" x=\"233\" y=\"-126.8\" font-family=\"Helvetica,sans-Serif\" font-size=\"14.00\" fill=\"#000000\">gini = 0.027</text>\n<text text-anchor=\"middle\" x=\"233\" y=\"-111.8\" font-family=\"Helvetica,sans-Serif\" font-size=\"14.00\" fill=\"#000000\">samples = 1296</text>\n<text text-anchor=\"middle\" x=\"233\" y=\"-96.8\" font-family=\"Helvetica,sans-Serif\" font-size=\"14.00\" fill=\"#000000\">value = [18, 1278]</text>\n</g>\n<!-- 1&#45;&gt;4 -->\n<g id=\"edge3\" class=\"edge\">\n<title>1&#45;&gt;4</title>\n<path fill=\"none\" stroke=\"#000000\" d=\"M218.8762,-192.9465C220.5441,-184.6863 222.3511,-175.7374 224.0977,-167.0875\"/>\n<polygon fill=\"#000000\" stroke=\"#000000\" points=\"227.5598,-167.6249 226.1084,-157.13 220.6982,-166.2394 227.5598,-167.6249\"/>\n</g>\n<!-- 7 -->\n<g id=\"node5\" class=\"node\">\n<title>7</title>\n<polygon fill=\"none\" stroke=\"#000000\" points=\"228,-53 104,-53 104,0 228,0 228,-53\"/>\n<text text-anchor=\"middle\" x=\"166\" y=\"-37.8\" font-family=\"Helvetica,sans-Serif\" font-size=\"14.00\" fill=\"#000000\">gini = 0.0</text>\n<text text-anchor=\"middle\" x=\"166\" y=\"-22.8\" font-family=\"Helvetica,sans-Serif\" font-size=\"14.00\" fill=\"#000000\">samples = 1278</text>\n<text text-anchor=\"middle\" x=\"166\" y=\"-7.8\" font-family=\"Helvetica,sans-Serif\" font-size=\"14.00\" fill=\"#000000\">value = [0, 1278]</text>\n</g>\n<!-- 4&#45;&gt;7 -->\n<g id=\"edge4\" class=\"edge\">\n<title>4&#45;&gt;7</title>\n<path fill=\"none\" stroke=\"#000000\" d=\"M209.3783,-88.9777C203.2113,-80.0954 196.5539,-70.5067 190.3499,-61.5711\"/>\n<polygon fill=\"#000000\" stroke=\"#000000\" points=\"193.1497,-59.4666 184.5715,-53.2485 187.3997,-63.4589 193.1497,-59.4666\"/>\n</g>\n<!-- 8 -->\n<g id=\"node6\" class=\"node\">\n<title>8</title>\n<polygon fill=\"none\" stroke=\"#000000\" points=\"353.5,-53 246.5,-53 246.5,0 353.5,0 353.5,-53\"/>\n<text text-anchor=\"middle\" x=\"300\" y=\"-37.8\" font-family=\"Helvetica,sans-Serif\" font-size=\"14.00\" fill=\"#000000\">gini = 0.0</text>\n<text text-anchor=\"middle\" x=\"300\" y=\"-22.8\" font-family=\"Helvetica,sans-Serif\" font-size=\"14.00\" fill=\"#000000\">samples = 18</text>\n<text text-anchor=\"middle\" x=\"300\" y=\"-7.8\" font-family=\"Helvetica,sans-Serif\" font-size=\"14.00\" fill=\"#000000\">value = [18, 0]</text>\n</g>\n<!-- 4&#45;&gt;8 -->\n<g id=\"edge5\" class=\"edge\">\n<title>4&#45;&gt;8</title>\n<path fill=\"none\" stroke=\"#000000\" d=\"M256.6217,-88.9777C262.7887,-80.0954 269.4461,-70.5067 275.6501,-61.5711\"/>\n<polygon fill=\"#000000\" stroke=\"#000000\" points=\"278.6003,-63.4589 281.4285,-53.2485 272.8503,-59.4666 278.6003,-63.4589\"/>\n</g>\n<!-- 5 -->\n<g id=\"node8\" class=\"node\">\n<title>5</title>\n<polygon fill=\"none\" stroke=\"#000000\" points=\"508,-149.5 376,-149.5 376,-96.5 508,-96.5 508,-149.5\"/>\n<text text-anchor=\"middle\" x=\"442\" y=\"-134.3\" font-family=\"Helvetica,sans-Serif\" font-size=\"14.00\" fill=\"#000000\">gini = 0.04</text>\n<text text-anchor=\"middle\" x=\"442\" y=\"-119.3\" font-family=\"Helvetica,sans-Serif\" font-size=\"14.00\" fill=\"#000000\">samples = 3278</text>\n<text text-anchor=\"middle\" x=\"442\" y=\"-104.3\" font-family=\"Helvetica,sans-Serif\" font-size=\"14.00\" fill=\"#000000\">value = [3211, 67]</text>\n</g>\n<!-- 2&#45;&gt;5 -->\n<g id=\"edge7\" class=\"edge\">\n<title>2&#45;&gt;5</title>\n<path fill=\"none\" stroke=\"#000000\" d=\"M456.1238,-192.9465C453.9664,-182.2621 451.5763,-170.4254 449.3852,-159.5742\"/>\n<polygon fill=\"#000000\" stroke=\"#000000\" points=\"452.7696,-158.6516 447.3595,-149.5422 445.9081,-160.0371 452.7696,-158.6516\"/>\n</g>\n<!-- 6 -->\n<g id=\"node9\" class=\"node\">\n<title>6</title>\n<polygon fill=\"none\" stroke=\"#000000\" points=\"633.5,-149.5 526.5,-149.5 526.5,-96.5 633.5,-96.5 633.5,-149.5\"/>\n<text text-anchor=\"middle\" x=\"580\" y=\"-134.3\" font-family=\"Helvetica,sans-Serif\" font-size=\"14.00\" fill=\"#000000\">gini = 0.064</text>\n<text text-anchor=\"middle\" x=\"580\" y=\"-119.3\" font-family=\"Helvetica,sans-Serif\" font-size=\"14.00\" fill=\"#000000\">samples = 60</text>\n<text text-anchor=\"middle\" x=\"580\" y=\"-104.3\" font-family=\"Helvetica,sans-Serif\" font-size=\"14.00\" fill=\"#000000\">value = [2, 58]</text>\n</g>\n<!-- 2&#45;&gt;6 -->\n<g id=\"edge8\" class=\"edge\">\n<title>2&#45;&gt;6</title>\n<path fill=\"none\" stroke=\"#000000\" d=\"M501.3102,-192.9465C514.5694,-181.1606 529.4058,-167.9726 542.5916,-156.2519\"/>\n<polygon fill=\"#000000\" stroke=\"#000000\" points=\"544.9912,-158.8018 550.1401,-149.5422 540.3407,-153.5699 544.9912,-158.8018\"/>\n</g>\n</g>\n</svg>\n"
          },
          "metadata": {},
          "execution_count": 67
        }
      ],
      "source": [
        "from graphviz import Source\n",
        "from sklearn import tree\n",
        "Source(tree.export_graphviz(decision_tree, out_file=None, feature_names=X.columns))"
      ]
    },
    {
      "cell_type": "code",
      "execution_count": null,
      "metadata": {
        "colab": {
          "base_uri": "https://localhost:8080/"
        },
        "id": "-7IrLSAx-PuK",
        "outputId": "0302368c-aeca-43eb-dd23-e028b99690bd"
      },
      "outputs": [
        {
          "output_type": "execute_result",
          "data": {
            "text/plain": [
              "{1: 300}"
            ]
          },
          "metadata": {},
          "execution_count": 68
        }
      ],
      "source": [
        "unique, counts = np.unique(y_test, return_counts=True)\n",
        "dict(zip(unique, counts))"
      ]
    },
    {
      "cell_type": "code",
      "execution_count": null,
      "metadata": {
        "colab": {
          "base_uri": "https://localhost:8080/"
        },
        "id": "a9iK4zQt-SlP",
        "outputId": "ab8edbab-5dc6-4f3f-e92f-340dbceaf272"
      },
      "outputs": [
        {
          "output_type": "stream",
          "name": "stderr",
          "text": [
            "/usr/local/lib/python3.7/dist-packages/sklearn/base.py:493: FutureWarning: The feature names should match those that were passed during fit. Starting version 1.2, an error will be raised.\n",
            "Feature names unseen at fit time:\n",
            "- Flow Byts/s\n",
            "- Fwd Header Len\n",
            "- Fwd IAT Mean\n",
            "- Fwd Pkt Len Max\n",
            "- Fwd Pkt Len Mean\n",
            "- ...\n",
            "Feature names seen at fit time, yet now missing:\n",
            "- Average Packet Size\n",
            "- Flow Bytes/s\n",
            "- Flow IAT Mean\n",
            "- Flow Packets/s\n",
            "- Fwd Packet Length Max\n",
            "- ...\n",
            "\n",
            "  warnings.warn(message, FutureWarning)\n"
          ]
        },
        {
          "output_type": "execute_result",
          "data": {
            "text/plain": [
              "array([[  0,   0],\n",
              "       [150, 150]])"
            ]
          },
          "metadata": {},
          "execution_count": 69
        }
      ],
      "source": [
        "from sklearn.metrics import confusion_matrix\n",
        "y_pred = decision_tree.predict(X_test)\n",
        "confusion_matrix(y_test, y_pred)"
      ]
    },
    {
      "cell_type": "markdown",
      "metadata": {
        "id": "duGKUsAzal52"
      },
      "source": [
        "###Random Forest"
      ]
    },
    {
      "cell_type": "code",
      "execution_count": null,
      "metadata": {
        "colab": {
          "base_uri": "https://localhost:8080/"
        },
        "id": "xo4E_wFeaqNd",
        "outputId": "129d3f20-34c6-42f1-928d-953694f5a901"
      },
      "outputs": [
        {
          "output_type": "stream",
          "name": "stdout",
          "text": [
            "R^2 Training Score: 0.99 \n",
            "R^2 Validation Score: 0.98 \n",
            "Out-of-bag Score: 0.98\n"
          ]
        }
      ],
      "source": [
        "from sklearn.ensemble import RandomForestClassifier\n",
        "\n",
        "rf = RandomForestClassifier(n_estimators=250, random_state=42, oob_score=True)\n",
        "rf.fit(X_train, y_train)\n",
        "# Score = mean accuracy on the given test data and labels\n",
        "print('R^2 Training Score: {:.2f} \\nR^2 Validation Score: {:.2f} \\nOut-of-bag Score: {:.2f}'\n",
        "      .format(rf.score(X_train, y_train), rf.score(X_test, y_test), rf.oob_score_))"
      ]
    },
    {
      "cell_type": "code",
      "execution_count": null,
      "metadata": {
        "colab": {
          "base_uri": "https://localhost:8080/"
        },
        "id": "byV6krktawE_",
        "outputId": "097ecd30-40bc-487d-90c6-31017f7ca77d"
      },
      "outputs": [
        {
          "output_type": "stream",
          "name": "stdout",
          "text": [
            "1.\t#13\t0.083\tFlow Bytes/s\n",
            "2.\t#51\t0.080\tAverage Packet Size\n",
            "3.\t#38\t0.063\tMax Packet Length\n",
            "4.\t#39\t0.062\tPacket Length Mean\n",
            "5.\t#7\t0.056\tFwd Packet Length Mean\n",
            "6.\t#23\t0.053\tFwd IAT Min\n",
            "7.\t#61\t0.051\tSubflow Fwd Bytes\n",
            "8.\t#52\t0.050\tAvg Fwd Segment Size\n",
            "9.\t#3\t0.046\tTotal Length of Fwd Packets\n",
            "10.\t#15\t0.035\tFlow IAT Mean\n",
            "11.\t#5\t0.033\tFwd Packet Length Max\n",
            "12.\t#21\t0.029\tFwd IAT Std\n",
            "13.\t#14\t0.024\tFlow Packets/s\n",
            "14.\t#33\t0.023\tFwd Header Length\n",
            "15.\t#0\t0.021\tFlow Duration\n",
            "16.\t#35\t0.021\tFwd Packets/s\n",
            "17.\t#16\t0.020\tFlow IAT Std\n",
            "18.\t#20\t0.018\tFwd IAT Mean\n",
            "19.\t#22\t0.017\tFwd IAT Max\n",
            "20.\t#34\t0.015\tBwd Header Length\n"
          ]
        }
      ],
      "source": [
        "features = X.columns\n",
        "importances = rf.feature_importances_\n",
        "indices = np.argsort(importances)[::-1]\n",
        "webattack_features = []\n",
        "\n",
        "for index, i in enumerate(indices[:20]):\n",
        "    webattack_features.append(features[i])\n",
        "    print('{}.\\t#{}\\t{:.3f}\\t{}'.format(index + 1, i, importances[i], features[i]))"
      ]
    },
    {
      "cell_type": "code",
      "execution_count": null,
      "metadata": {
        "colab": {
          "base_uri": "https://localhost:8080/",
          "height": 404
        },
        "id": "TPxzWeP4bHa5",
        "outputId": "a04e3e56-da4d-4c5e-8ae7-bc2e9ce051b9"
      },
      "outputs": [
        {
          "output_type": "display_data",
          "data": {
            "text/plain": [
              "<Figure size 720x432 with 1 Axes>"
            ],
            "image/png": "[encoded data removed]"
          },
          "metadata": {
            "needs_background": "light"
          }
        }
      ],
      "source": [
        "indices = np.argsort(importances)[-20:]\n",
        "plt.rcParams['figure.figsize'] = (10, 6)\n",
        "plt.title('Feature Importances')\n",
        "plt.barh(range(len(indices)), importances[indices], color='#cccccc', align='center')\n",
        "plt.yticks(range(len(indices)), [features[i] for i in indices])\n",
        "plt.xlabel('Relative Importance')\n",
        "plt.grid()\n",
        "plt.savefig('feature_importances.png', dpi=300, bbox_inches='tight')\n",
        "plt.show()"
      ]
    },
    {
      "cell_type": "code",
      "execution_count": null,
      "metadata": {
        "colab": {
          "base_uri": "https://localhost:8080/"
        },
        "id": "QaYCrMC4cenU",
        "outputId": "0a2da96d-01c9-4443-edbc-f84959a60233"
      },
      "outputs": [
        {
          "output_type": "execute_result",
          "data": {
            "text/plain": [
              "array([[1508,   20],\n",
              "       [  20,  633]])"
            ]
          },
          "metadata": {},
          "execution_count": 38
        }
      ],
      "source": [
        "y_pred = rf.predict(X_test)\n",
        "confusion_matrix(y_test, y_pred)"
      ]
    },
    {
      "cell_type": "code",
      "execution_count": null,
      "metadata": {
        "colab": {
          "base_uri": "https://localhost:8080/"
        },
        "id": "Xriaa8XicuoB",
        "outputId": "77292055-ba65-4528-b9d1-93d05d8257cc"
      },
      "outputs": [
        {
          "output_type": "execute_result",
          "data": {
            "text/plain": [
              "['Flow Bytes/s',\n",
              " 'Average Packet Size',\n",
              " 'Max Packet Length',\n",
              " 'Packet Length Mean',\n",
              " 'Fwd Packet Length Mean',\n",
              " 'Fwd IAT Min',\n",
              " 'Subflow Fwd Bytes',\n",
              " 'Avg Fwd Segment Size',\n",
              " 'Total Length of Fwd Packets',\n",
              " 'Flow IAT Mean',\n",
              " 'Fwd Packet Length Max',\n",
              " 'Fwd IAT Std',\n",
              " 'Flow Packets/s',\n",
              " 'Fwd Header Length',\n",
              " 'Flow Duration',\n",
              " 'Fwd Packets/s',\n",
              " 'Flow IAT Std',\n",
              " 'Fwd IAT Mean',\n",
              " 'Fwd IAT Max',\n",
              " 'Bwd Header Length']"
            ]
          },
          "metadata": {},
          "execution_count": 39
        }
      ],
      "source": [
        "max_features = 20\n",
        "webattack_features = webattack_features[:max_features]\n",
        "webattack_features"
      ]
    },
    {
      "cell_type": "code",
      "execution_count": null,
      "metadata": {
        "colab": {
          "base_uri": "https://localhost:8080/"
        },
        "id": "Nml7xnnqgoMz",
        "outputId": "65619133-dbcb-49f4-a0d1-d03bb5533a44"
      },
      "outputs": [
        {
          "output_type": "execute_result",
          "data": {
            "text/plain": [
              "['Flow Bytes/s',\n",
              " 'Average Packet Size',\n",
              " 'Max Packet Length',\n",
              " 'Fwd Packet Length Mean',\n",
              " 'Fwd IAT Min',\n",
              " 'Total Length of Fwd Packets',\n",
              " 'Flow IAT Mean',\n",
              " 'Fwd Packet Length Max',\n",
              " 'Fwd IAT Std',\n",
              " 'Flow Packets/s']"
            ]
          },
          "metadata": {},
          "execution_count": 40
        }
      ],
      "source": [
        "to_be_removed = {'Packet Length Mean', 'Avg Fwd Segment Size', 'Subflow Fwd Bytes',\n",
        "                 'Fwd Packets/s', 'Fwd IAT Total', 'Fwd IAT Max'}\n",
        "webattack_features = [item for item in webattack_features if item not in to_be_removed]\n",
        "webattack_features = webattack_features[:10]\n",
        "webattack_features"
      ]
    },
    {
      "cell_type": "code",
      "execution_count": null,
      "metadata": {
        "colab": {
          "base_uri": "https://localhost:8080/"
        },
        "id": "vrwIysyAhKxI",
        "outputId": "5833c9b3-7b96-4394-ee51-fa691b3d2ccf"
      },
      "outputs": [
        {
          "output_type": "stream",
          "name": "stdout",
          "text": [
            "(7267, 10) (7267,)\n"
          ]
        }
      ],
      "source": [
        "from sklearn.model_selection import GridSearchCV\n",
        "\n",
        "df = pd.read_csv('web_attacks_balanced.csv')\n",
        "df['Label'] = df['Label'].apply(lambda x: 0 if x == 'BENIGN' else 1)\n",
        "y = df['Label'].values\n",
        "X = df[webattack_features]\n",
        "print(X.shape, y.shape)"
      ]
    },
    {
      "cell_type": "code",
      "execution_count": null,
      "metadata": {
        "colab": {
          "base_uri": "https://localhost:8080/"
        },
        "id": "wc_IVcRPhU82",
        "outputId": "12775f71-9d82-4649-8316-fd0475cfa843"
      },
      "outputs": [
        {
          "output_type": "execute_result",
          "data": {
            "text/plain": [
              "dict_keys(['bootstrap', 'ccp_alpha', 'class_weight', 'criterion', 'max_depth', 'max_features', 'max_leaf_nodes', 'max_samples', 'min_impurity_decrease', 'min_samples_leaf', 'min_samples_split', 'min_weight_fraction_leaf', 'n_estimators', 'n_jobs', 'oob_score', 'random_state', 'verbose', 'warm_start'])"
            ]
          },
          "metadata": {},
          "execution_count": 42
        }
      ],
      "source": [
        "rfc = RandomForestClassifier(random_state=1)\n",
        "rfc.get_params().keys()"
      ]
    },
    {
      "cell_type": "code",
      "execution_count": null,
      "metadata": {
        "colab": {
          "base_uri": "https://localhost:8080/"
        },
        "id": "4JoxI-axhdD7",
        "outputId": "dab632ac-317e-4332-a798-a1e728e86aec"
      },
      "outputs": [
        {
          "output_type": "stream",
          "name": "stdout",
          "text": [
            "CPU times: user 13.3 s, sys: 41.4 ms, total: 13.3 s\n",
            "Wall time: 13.3 s\n"
          ]
        }
      ],
      "source": [
        "parameters = {'n_estimators': [10],\n",
        "              'min_samples_leaf': [3],\n",
        "              'max_features': [3],\n",
        "              'max_depth': [1, 2, 3, 4, 5, 6, 7, 8, 9, 10, 11, 13, 15, 17, 20, 30, 50]}\n",
        "scoring = {'f1', 'accuracy'}\n",
        "gcv = GridSearchCV(rfc, parameters, scoring=scoring, refit='f1', cv=10, return_train_score=True)\n",
        "get_ipython().run_line_magic('time', 'gcv.fit(X, y)')\n",
        "results = gcv.cv_results_"
      ]
    },
    {
      "cell_type": "markdown",
      "metadata": {
        "id": "Iiskwr3VmoL5"
      },
      "source": [
        "## Final model"
      ]
    },
    {
      "cell_type": "code",
      "execution_count": null,
      "metadata": {
        "id": "b3hhhXy8G90U",
        "outputId": "d95a7847-a454-4352-c4ca-340e25788461",
        "colab": {
          "base_uri": "https://localhost:8080/"
        }
      },
      "outputs": [
        {
          "output_type": "stream",
          "name": "stdout",
          "text": [
            "(5086, 10) (5086,)\n",
            "(2181, 10) (2181,)\n"
          ]
        }
      ],
      "source": [
        "X_train, X_test, y_train, y_test = train_test_split(X, y, test_size=0.3, random_state=42)\n",
        "print(X_train.shape, y_train.shape)\n",
        "print(X_test.shape, y_test.shape)"
      ]
    },
    {
      "cell_type": "code",
      "execution_count": null,
      "metadata": {
        "colab": {
          "base_uri": "https://localhost:8080/"
        },
        "id": "7F8aWhX3mm8B",
        "outputId": "027f59a3-02fc-4653-a1aa-bf8aa640a26d"
      },
      "outputs": [
        {
          "output_type": "execute_result",
          "data": {
            "text/plain": [
              "RandomForestClassifier(max_depth=17, max_features=10, min_samples_leaf=3,\n",
              "                       n_estimators=50, oob_score=True, random_state=42)"
            ]
          },
          "metadata": {},
          "execution_count": 45
        }
      ],
      "source": [
        "rfc = RandomForestClassifier(max_depth=17, max_features=10, min_samples_leaf=3, n_estimators=50, random_state=42, oob_score=True)\n",
        "# rfc = RandomForestClassifier(n_estimators=250, random_state=1)\n",
        "rfc.fit(X_train, y_train)"
      ]
    },
    {
      "cell_type": "code",
      "execution_count": null,
      "metadata": {
        "colab": {
          "base_uri": "https://localhost:8080/"
        },
        "id": "yULIEGsxmtsQ",
        "outputId": "ba5b14f4-f7ee-41d0-a916-0dda637e2117"
      },
      "outputs": [
        {
          "output_type": "stream",
          "name": "stdout",
          "text": [
            "1.\t#2\t0.335\tMax Packet Length\n",
            "2.\t#1\t0.304\tAverage Packet Size\n",
            "3.\t#8\t0.152\tFwd IAT Std\n",
            "4.\t#5\t0.064\tTotal Length of Fwd Packets\n",
            "5.\t#6\t0.037\tFlow IAT Mean\n",
            "6.\t#4\t0.032\tFwd IAT Min\n",
            "7.\t#0\t0.028\tFlow Bytes/s\n",
            "8.\t#9\t0.025\tFlow Packets/s\n",
            "9.\t#3\t0.019\tFwd Packet Length Mean\n",
            "10.\t#7\t0.003\tFwd Packet Length Max\n"
          ]
        }
      ],
      "source": [
        "features = X.columns\n",
        "importances = rfc.feature_importances_\n",
        "indices = np.argsort(importances)[::-1]\n",
        "\n",
        "for index, i in enumerate(indices[:10]):\n",
        "    print('{}.\\t#{}\\t{:.3f}\\t{}'.format(index + 1, i, importances[i], features[i]))"
      ]
    },
    {
      "cell_type": "code",
      "execution_count": null,
      "metadata": {
        "id": "_QHtinqIG90U",
        "outputId": "a8bfc835-946b-4011-b664-84ed8904895e",
        "colab": {
          "base_uri": "https://localhost:8080/"
        }
      },
      "outputs": [
        {
          "output_type": "execute_result",
          "data": {
            "text/plain": [
              "array([[1513,   25],\n",
              "       [  29,  614]])"
            ]
          },
          "metadata": {},
          "execution_count": 47
        }
      ],
      "source": [
        "y_pred = rfc.predict(X_test)\n",
        "confusion_matrix(y_test, y_pred)"
      ]
    },
    {
      "cell_type": "code",
      "execution_count": null,
      "metadata": {
        "colab": {
          "base_uri": "https://localhost:8080/"
        },
        "id": "WWgbCOjZoIYX",
        "outputId": "0f13991e-8c25-4e56-d766-a6a2e4d330d7"
      },
      "outputs": [
        {
          "output_type": "stream",
          "name": "stdout",
          "text": [
            "Accuracy = 0.9752407152682255\n",
            "Precision = 0.9608763693270735\n",
            "Recall = 0.9548989113530326\n",
            "F1 = 0.9578783151326052\n"
          ]
        }
      ],
      "source": [
        "import sklearn.metrics as metrics\n",
        "accuracy = metrics.accuracy_score(y_test, y_pred)\n",
        "precision = metrics.precision_score(y_test, y_pred)\n",
        "recall = metrics.recall_score(y_test, y_pred)\n",
        "f1 = metrics.f1_score(y_test, y_pred)\n",
        "print('Accuracy =', accuracy)\n",
        "print('Precision =', precision)\n",
        "print('Recall =', recall)\n",
        "print('F1 =', f1)"
      ]
    },
    {
      "cell_type": "code",
      "execution_count": null,
      "metadata": {
        "id": "QjZyFNFIoMFK"
      },
      "outputs": [],
      "source": [
        "import pickle\n",
        "with open('webattack_detection_rf_model.pkl', 'wb') as f:\n",
        "    pickle.dump(rfc, f)"
      ]
    },
    {
      "cell_type": "code",
      "execution_count": null,
      "metadata": {
        "colab": {
          "base_uri": "https://localhost:8080/"
        },
        "id": "hxBtpLABob_z",
        "outputId": "49d4f00f-7049-4559-c49d-0bb011e42af0"
      },
      "outputs": [
        {
          "output_type": "execute_result",
          "data": {
            "text/plain": [
              "RandomForestClassifier(max_depth=17, max_features=10, min_samples_leaf=3,\n",
              "                       n_estimators=50, oob_score=True, random_state=42)"
            ]
          },
          "metadata": {},
          "execution_count": 50
        }
      ],
      "source": [
        "with open('webattack_detection_rf_model.pkl', 'rb') as f:\n",
        "    rfc = pickle.load(f)\n",
        "rfc"
      ]
    },
    {
      "cell_type": "code",
      "source": [
        "import pandas as pd\n",
        "import numpy as np\n",
        "from sklearn import preprocessing"
      ],
      "metadata": {
        "id": "c3eC6IVpNdmX"
      },
      "execution_count": null,
      "outputs": []
    },
    {
      "cell_type": "code",
      "source": [
        "dataframe1=pd.read_csv('/content/drive/MyDrive/slowloris.pcap_Flow.csv',engine='python',encoding='latin1')"
      ],
      "metadata": {
        "id": "NmczRpgmNi9T"
      },
      "execution_count": null,
      "outputs": []
    },
    {
      "cell_type": "code",
      "source": [
        "print(dataframe1.columns)"
      ],
      "metadata": {
        "id": "dD8hCR4KN14G",
        "outputId": "4eabf4fa-6ea8-43f4-8f35-1b04ea0543af",
        "colab": {
          "base_uri": "https://localhost:8080/"
        }
      },
      "execution_count": null,
      "outputs": [
        {
          "output_type": "stream",
          "name": "stdout",
          "text": [
            "Index(['Flow ID', 'Src IP', 'Src Port', 'Dst IP', 'Dst Port', 'Protocol',\n",
            "       'Timestamp', 'Flow Duration', 'Tot Fwd Pkts', 'Tot Bwd Pkts',\n",
            "       'TotLen Fwd Pkts', 'TotLen Bwd Pkts', 'Fwd Pkt Len Max',\n",
            "       'Fwd Pkt Len Min', 'Fwd Pkt Len Mean', 'Fwd Pkt Len Std',\n",
            "       'Bwd Pkt Len Max', 'Bwd Pkt Len Min', 'Bwd Pkt Len Mean',\n",
            "       'Bwd Pkt Len Std', 'Flow Byts/s', 'Flow Pkts/s', 'Flow IAT Mean',\n",
            "       'Flow IAT Std', 'Flow IAT Max', 'Flow IAT Min', 'Fwd IAT Tot',\n",
            "       'Fwd IAT Mean', 'Fwd IAT Std', 'Fwd IAT Max', 'Fwd IAT Min',\n",
            "       'Bwd IAT Tot', 'Bwd IAT Mean', 'Bwd IAT Std', 'Bwd IAT Max',\n",
            "       'Bwd IAT Min', 'Fwd PSH Flags', 'Bwd PSH Flags', 'Fwd URG Flags',\n",
            "       'Bwd URG Flags', 'Fwd Header Len', 'Bwd Header Len', 'Fwd Pkts/s',\n",
            "       'Bwd Pkts/s', 'Pkt Len Min', 'Pkt Len Max', 'Pkt Len Mean',\n",
            "       'Pkt Len Std', 'Pkt Len Var', 'FIN Flag Cnt', 'SYN Flag Cnt',\n",
            "       'RST Flag Cnt', 'PSH Flag Cnt', 'ACK Flag Cnt', 'URG Flag Cnt',\n",
            "       'CWE Flag Count', 'ECE Flag Cnt', 'Down/Up Ratio', 'Pkt Size Avg',\n",
            "       'Fwd Seg Size Avg', 'Bwd Seg Size Avg', 'Fwd Byts/b Avg',\n",
            "       'Fwd Pkts/b Avg', 'Fwd Blk Rate Avg', 'Bwd Byts/b Avg',\n",
            "       'Bwd Pkts/b Avg', 'Bwd Blk Rate Avg', 'Subflow Fwd Pkts',\n",
            "       'Subflow Fwd Byts', 'Subflow Bwd Pkts', 'Subflow Bwd Byts',\n",
            "       'Init Fwd Win Byts', 'Init Bwd Win Byts', 'Fwd Act Data Pkts',\n",
            "       'Fwd Seg Size Min', 'Active Mean', 'Active Std', 'Active Max',\n",
            "       'Active Min', 'Idle Mean', 'Idle Std', 'Idle Max', 'Idle Min', 'Label'],\n",
            "      dtype='object')\n"
          ]
        }
      ]
    },
    {
      "cell_type": "code",
      "source": [
        "dataframe1.replace('Infinity', -1, inplace=True)\n",
        "dataframe1[[\"Flow Byts/s\", \"Flow Pkts/s\"]] = dataframe1[[\"Flow Byts/s\", \"Flow Pkts/s\"]].apply(pd.to_numeric)"
      ],
      "metadata": {
        "id": "GGLGYAyQN5eb"
      },
      "execution_count": null,
      "outputs": []
    },
    {
      "cell_type": "code",
      "source": [
        "dataframe1.replace([np.inf, -np.inf, np.nan], -1, inplace=True)"
      ],
      "metadata": {
        "id": "lr5LGxtAN-8I"
      },
      "execution_count": null,
      "outputs": []
    },
    {
      "cell_type": "code",
      "source": [
        "print(dataframe1['Label'])\n",
        "dataframe1['Label'] = dataframe1['Label'].apply(lambda x: 0 if x=='BENIGN' else 1)\n",
        "y_test = dataframe1['Label'].values\n",
        "excluded = [\n",
        "            'Flow ID', 'Src IP', 'Src Port', 'Dst IP', 'Dst Port', 'Protocol',\n",
        "       'Timestamp', 'Flow Duration', 'Tot Fwd Pkts', 'Tot Bwd Pkts',\n",
        "        'TotLen Bwd Pkts',\n",
        "       'Fwd Pkt Len Min',  'Fwd Pkt Len Std',\n",
        "       'Bwd Pkt Len Max', 'Bwd Pkt Len Min', 'Bwd Pkt Len Mean',\n",
        "       'Bwd Pkt Len Std',  'Flow Pkts/s', 'Flow IAT Mean',\n",
        "       'Flow IAT Std', 'Flow IAT Max', 'Flow IAT Min', 'Fwd IAT Tot',\n",
        "         'Fwd IAT Max',\n",
        "       'Bwd IAT Tot', 'Bwd IAT Mean', 'Bwd IAT Std', 'Bwd IAT Max',\n",
        "       'Bwd IAT Min', 'Fwd PSH Flags', 'Bwd PSH Flags', 'Fwd URG Flags',\n",
        "       'Bwd URG Flags',  'Bwd Header Len', 'Fwd Pkts/s',\n",
        "       'Bwd Pkts/s', 'Pkt Len Min',  'Pkt Len Mean',\n",
        "       'Pkt Len Std', 'Pkt Len Var', 'FIN Flag Cnt', 'SYN Flag Cnt',\n",
        "       'RST Flag Cnt', 'PSH Flag Cnt', 'ACK Flag Cnt', 'URG Flag Cnt',\n",
        "       'CWE Flag Count', 'ECE Flag Cnt', 'Down/Up Ratio',\n",
        "       'Fwd Seg Size Avg', 'Bwd Seg Size Avg', 'Fwd Byts/b Avg',\n",
        "       'Fwd Pkts/b Avg', 'Fwd Blk Rate Avg', 'Bwd Byts/b Avg',\n",
        "       'Bwd Pkts/b Avg', 'Bwd Blk Rate Avg', 'Subflow Fwd Pkts',\n",
        "       'Subflow Fwd Byts', 'Subflow Bwd Pkts', 'Subflow Bwd Byts',\n",
        "       'Init Fwd Win Byts', 'Init Bwd Win Byts', 'Fwd Act Data Pkts',\n",
        "       'Fwd Seg Size Min', 'Active Mean', 'Active Std', 'Active Max',\n",
        "       'Active Min', 'Idle Mean', 'Idle Std', 'Idle Max', 'Idle Min', 'Label'\n",
        "\n",
        "       ]\n",
        "X_test = dataframe1.drop(columns=excluded, errors='ignore')\n",
        "print(X_test.shape, y_test.shape)"
      ],
      "metadata": {
        "id": "JHg_M_t0OIeU",
        "outputId": "04cc1644-6e01-47a7-c17d-66bec8439394",
        "colab": {
          "base_uri": "https://localhost:8080/"
        }
      },
      "execution_count": null,
      "outputs": [
        {
          "output_type": "stream",
          "name": "stdout",
          "text": [
            "0      No Label\n",
            "1      No Label\n",
            "2      No Label\n",
            "3      No Label\n",
            "4      No Label\n",
            "         ...   \n",
            "295    No Label\n",
            "296    No Label\n",
            "297    No Label\n",
            "298    No Label\n",
            "299    No Label\n",
            "Name: Label, Length: 300, dtype: object\n",
            "(300, 10) (300,)\n"
          ]
        }
      ]
    },
    {
      "cell_type": "code",
      "execution_count": null,
      "metadata": {
        "colab": {
          "base_uri": "https://localhost:8080/",
          "height": 206
        },
        "id": "wmcv42wHoltz",
        "outputId": "7eca6d7e-097f-437b-9986-9eafd39d62cc"
      },
      "outputs": [
        {
          "output_type": "execute_result",
          "data": {
            "text/plain": [
              "   TotLen Fwd Pkts  Fwd Pkt Len Max  Fwd Pkt Len Mean  Flow Byts/s  \\\n",
              "0            275.0            168.0         22.916667     2.528723   \n",
              "1            274.0            168.0         22.833333     2.519538   \n",
              "2            277.0            168.0         23.083333     2.547134   \n",
              "3            275.0            168.0         22.916667     2.528748   \n",
              "4            274.0            168.0         22.833333     2.519559   \n",
              "\n",
              "   Fwd IAT Mean   Fwd IAT Std  Fwd IAT Min  Fwd Header Len  Pkt Len Max  \\\n",
              "0  9.886356e+06  7.184148e+06         38.0             260        168.0   \n",
              "1  9.886319e+06  7.184201e+06         70.0             260        168.0   \n",
              "2  9.886287e+06  7.184243e+06         31.0             260        168.0   \n",
              "3  9.886268e+06  7.184264e+06         54.0             260        168.0   \n",
              "4  9.886247e+06  7.184285e+06         36.0             260        168.0   \n",
              "\n",
              "   Pkt Size Avg  \n",
              "0     11.956522  \n",
              "1     11.913043  \n",
              "2     12.043478  \n",
              "3     11.956522  \n",
              "4     11.913043  "
            ],
            "text/html": [
              "\n",
              "  <div id=\"df-ed29d426-b45c-4735-addb-236785802743\">\n",
              "    <div class=\"colab-df-container\">\n",
              "      <div>\n",
              "<style scoped>\n",
              "    .dataframe tbody tr th:only-of-type {\n",
              "        vertical-align: middle;\n",
              "    }\n",
              "\n",
              "    .dataframe tbody tr th {\n",
              "        vertical-align: top;\n",
              "    }\n",
              "\n",
              "    .dataframe thead th {\n",
              "        text-align: right;\n",
              "    }\n",
              "</style>\n",
              "<table border=\"1\" class=\"dataframe\">\n",
              "  <thead>\n",
              "    <tr style=\"text-align: right;\">\n",
              "      <th></th>\n",
              "      <th>TotLen Fwd Pkts</th>\n",
              "      <th>Fwd Pkt Len Max</th>\n",
              "      <th>Fwd Pkt Len Mean</th>\n",
              "      <th>Flow Byts/s</th>\n",
              "      <th>Fwd IAT Mean</th>\n",
              "      <th>Fwd IAT Std</th>\n",
              "      <th>Fwd IAT Min</th>\n",
              "      <th>Fwd Header Len</th>\n",
              "      <th>Pkt Len Max</th>\n",
              "      <th>Pkt Size Avg</th>\n",
              "    </tr>\n",
              "  </thead>\n",
              "  <tbody>\n",
              "    <tr>\n",
              "      <th>0</th>\n",
              "      <td>275.0</td>\n",
              "      <td>168.0</td>\n",
              "      <td>22.916667</td>\n",
              "      <td>2.528723</td>\n",
              "      <td>9.886356e+06</td>\n",
              "      <td>7.184148e+06</td>\n",
              "      <td>38.0</td>\n",
              "      <td>260</td>\n",
              "      <td>168.0</td>\n",
              "      <td>11.956522</td>\n",
              "    </tr>\n",
              "    <tr>\n",
              "      <th>1</th>\n",
              "      <td>274.0</td>\n",
              "      <td>168.0</td>\n",
              "      <td>22.833333</td>\n",
              "      <td>2.519538</td>\n",
              "      <td>9.886319e+06</td>\n",
              "      <td>7.184201e+06</td>\n",
              "      <td>70.0</td>\n",
              "      <td>260</td>\n",
              "      <td>168.0</td>\n",
              "      <td>11.913043</td>\n",
              "    </tr>\n",
              "    <tr>\n",
              "      <th>2</th>\n",
              "      <td>277.0</td>\n",
              "      <td>168.0</td>\n",
              "      <td>23.083333</td>\n",
              "      <td>2.547134</td>\n",
              "      <td>9.886287e+06</td>\n",
              "      <td>7.184243e+06</td>\n",
              "      <td>31.0</td>\n",
              "      <td>260</td>\n",
              "      <td>168.0</td>\n",
              "      <td>12.043478</td>\n",
              "    </tr>\n",
              "    <tr>\n",
              "      <th>3</th>\n",
              "      <td>275.0</td>\n",
              "      <td>168.0</td>\n",
              "      <td>22.916667</td>\n",
              "      <td>2.528748</td>\n",
              "      <td>9.886268e+06</td>\n",
              "      <td>7.184264e+06</td>\n",
              "      <td>54.0</td>\n",
              "      <td>260</td>\n",
              "      <td>168.0</td>\n",
              "      <td>11.956522</td>\n",
              "    </tr>\n",
              "    <tr>\n",
              "      <th>4</th>\n",
              "      <td>274.0</td>\n",
              "      <td>168.0</td>\n",
              "      <td>22.833333</td>\n",
              "      <td>2.519559</td>\n",
              "      <td>9.886247e+06</td>\n",
              "      <td>7.184285e+06</td>\n",
              "      <td>36.0</td>\n",
              "      <td>260</td>\n",
              "      <td>168.0</td>\n",
              "      <td>11.913043</td>\n",
              "    </tr>\n",
              "  </tbody>\n",
              "</table>\n",
              "</div>\n",
              "      <button class=\"colab-df-convert\" onclick=\"convertToInteractive('df-ed29d426-b45c-4735-addb-236785802743')\"\n",
              "              title=\"Convert this dataframe to an interactive table.\"\n",
              "              style=\"display:none;\">\n",
              "        \n",
              "  <svg xmlns=\"http://www.w3.org/2000/svg\" height=\"24px\"viewBox=\"0 0 24 24\"\n",
              "       width=\"24px\">\n",
              "    <path d=\"M0 0h24v24H0V0z\" fill=\"none\"/>\n",
              "    <path d=\"M18.56 5.44l.94 2.06.94-2.06 2.06-.94-2.06-.94-.94-2.06-.94 2.06-2.06.94zm-11 1L8.5 8.5l.94-2.06 2.06-.94-2.06-.94L8.5 2.5l-.94 2.06-2.06.94zm10 10l.94 2.06.94-2.06 2.06-.94-2.06-.94-.94-2.06-.94 2.06-2.06.94z\"/><path d=\"M17.41 7.96l-1.37-1.37c-.4-.4-.92-.59-1.43-.59-.52 0-1.04.2-1.43.59L10.3 9.45l-7.72 7.72c-.78.78-.78 2.05 0 2.83L4 21.41c.39.39.9.59 1.41.59.51 0 1.02-.2 1.41-.59l7.78-7.78 2.81-2.81c.8-.78.8-2.07 0-2.86zM5.41 20L4 18.59l7.72-7.72 1.47 1.35L5.41 20z\"/>\n",
              "  </svg>\n",
              "      </button>\n",
              "      \n",
              "  <style>\n",
              "    .colab-df-container {\n",
              "      display:flex;\n",
              "      flex-wrap:wrap;\n",
              "      gap: 12px;\n",
              "    }\n",
              "\n",
              "    .colab-df-convert {\n",
              "      background-color: #E8F0FE;\n",
              "      border: none;\n",
              "      border-radius: 50%;\n",
              "      cursor: pointer;\n",
              "      display: none;\n",
              "      fill: #1967D2;\n",
              "      height: 32px;\n",
              "      padding: 0 0 0 0;\n",
              "      width: 32px;\n",
              "    }\n",
              "\n",
              "    .colab-df-convert:hover {\n",
              "      background-color: #E2EBFA;\n",
              "      box-shadow: 0px 1px 2px rgba(60, 64, 67, 0.3), 0px 1px 3px 1px rgba(60, 64, 67, 0.15);\n",
              "      fill: #174EA6;\n",
              "    }\n",
              "\n",
              "    [theme=dark] .colab-df-convert {\n",
              "      background-color: #3B4455;\n",
              "      fill: #D2E3FC;\n",
              "    }\n",
              "\n",
              "    [theme=dark] .colab-df-convert:hover {\n",
              "      background-color: #434B5C;\n",
              "      box-shadow: 0px 1px 3px 1px rgba(0, 0, 0, 0.15);\n",
              "      filter: drop-shadow(0px 1px 2px rgba(0, 0, 0, 0.3));\n",
              "      fill: #FFFFFF;\n",
              "    }\n",
              "  </style>\n",
              "\n",
              "      <script>\n",
              "        const buttonEl =\n",
              "          document.querySelector('#df-ed29d426-b45c-4735-addb-236785802743 button.colab-df-convert');\n",
              "        buttonEl.style.display =\n",
              "          google.colab.kernel.accessAllowed ? 'block' : 'none';\n",
              "\n",
              "        async function convertToInteractive(key) {\n",
              "          const element = document.querySelector('#df-ed29d426-b45c-4735-addb-236785802743');\n",
              "          const dataTable =\n",
              "            await google.colab.kernel.invokeFunction('convertToInteractive',\n",
              "                                                     [key], {});\n",
              "          if (!dataTable) return;\n",
              "\n",
              "          const docLinkHtml = 'Like what you see? Visit the ' +\n",
              "            '<a target=\"_blank\" href=https://colab.research.google.com/notebooks/data_table.ipynb>data table notebook</a>'\n",
              "            + ' to learn more about interactive tables.';\n",
              "          element.innerHTML = '';\n",
              "          dataTable['output_type'] = 'display_data';\n",
              "          await google.colab.output.renderOutput(dataTable, element);\n",
              "          const docLink = document.createElement('div');\n",
              "          docLink.innerHTML = docLinkHtml;\n",
              "          element.appendChild(docLink);\n",
              "        }\n",
              "      </script>\n",
              "    </div>\n",
              "  </div>\n",
              "  "
            ]
          },
          "metadata": {},
          "execution_count": 61
        }
      ],
      "source": [
        "X_test.head()"
      ]
    },
    {
      "cell_type": "code",
      "execution_count": null,
      "metadata": {
        "id": "RyyORmRrpDTz",
        "colab": {
          "base_uri": "https://localhost:8080/"
        },
        "outputId": "e2aff243-8c33-43fe-c3b7-81b1d5b87a84"
      },
      "outputs": [
        {
          "output_type": "stream",
          "name": "stderr",
          "text": [
            "/usr/local/lib/python3.7/dist-packages/sklearn/base.py:493: FutureWarning: The feature names should match those that were passed during fit. Starting version 1.2, an error will be raised.\n",
            "Feature names unseen at fit time:\n",
            "- Flow Byts/s\n",
            "- Fwd Header Len\n",
            "- Fwd IAT Mean\n",
            "- Fwd Pkt Len Max\n",
            "- Fwd Pkt Len Mean\n",
            "- ...\n",
            "Feature names seen at fit time, yet now missing:\n",
            "- Average Packet Size\n",
            "- Flow Bytes/s\n",
            "- Flow IAT Mean\n",
            "- Flow Packets/s\n",
            "- Fwd Packet Length Max\n",
            "- ...\n",
            "\n",
            "  warnings.warn(message, FutureWarning)\n"
          ]
        }
      ],
      "source": [
        "predict = pd.DataFrame({'Predict': rfc.predict(X_test)})\n",
        "label = pd.DataFrame({'Label': y_test})\n",
        "result = X_test.join(predict)"
      ]
    },
    {
      "cell_type": "code",
      "execution_count": null,
      "metadata": {
        "colab": {
          "base_uri": "https://localhost:8080/",
          "height": 485
        },
        "id": "Vgpf2SVmpnyp",
        "outputId": "62b39f90-f937-4eeb-b30d-4110a9dce9af"
      },
      "outputs": [
        {
          "output_type": "execute_result",
          "data": {
            "text/plain": [
              "     TotLen Fwd Pkts  Fwd Pkt Len Max  Fwd Pkt Len Mean  Flow Byts/s  \\\n",
              "0              275.0            168.0         22.916667     2.528723   \n",
              "1              274.0            168.0         22.833333     2.519538   \n",
              "2              277.0            168.0         23.083333     2.547134   \n",
              "3              275.0            168.0         22.916667     2.528748   \n",
              "4              274.0            168.0         22.833333     2.519559   \n",
              "..               ...              ...               ...          ...   \n",
              "145            277.0            168.0         23.083333     2.635491   \n",
              "146            277.0            168.0         23.083333     2.635495   \n",
              "147            275.0            168.0         22.916667     2.616471   \n",
              "148            276.0            168.0         23.000000     2.625988   \n",
              "149            275.0            168.0         22.916667     2.616478   \n",
              "\n",
              "     Fwd IAT Mean   Fwd IAT Std  Fwd IAT Min  Fwd Header Len  Pkt Len Max  \\\n",
              "0    9.886356e+06  7.184148e+06         38.0             260        168.0   \n",
              "1    9.886319e+06  7.184201e+06         70.0             260        168.0   \n",
              "2    9.886287e+06  7.184243e+06         31.0             260        168.0   \n",
              "3    9.886268e+06  7.184264e+06         54.0             260        168.0   \n",
              "4    9.886247e+06  7.184285e+06         36.0             260        168.0   \n",
              "..            ...           ...          ...             ...          ...   \n",
              "145  9.554881e+06  7.574734e+06         23.0             260        168.0   \n",
              "146  9.554868e+06  7.574750e+06         22.0             260        168.0   \n",
              "147  9.554854e+06  7.574769e+06         22.0             260        168.0   \n",
              "148  9.554840e+06  7.574789e+06         22.0             260        168.0   \n",
              "149  9.554826e+06  7.574808e+06         19.0             260        168.0   \n",
              "\n",
              "     Pkt Size Avg  Predict  \n",
              "0       11.956522        1  \n",
              "1       11.913043        1  \n",
              "2       12.043478        1  \n",
              "3       11.956522        1  \n",
              "4       11.913043        1  \n",
              "..            ...      ...  \n",
              "145     12.043478        1  \n",
              "146     12.043478        1  \n",
              "147     11.956522        1  \n",
              "148     12.000000        1  \n",
              "149     11.956522        1  \n",
              "\n",
              "[150 rows x 11 columns]"
            ],
            "text/html": [
              "\n",
              "  <div id=\"df-6f95f99c-4730-4cbe-86aa-1031acfe538b\">\n",
              "    <div class=\"colab-df-container\">\n",
              "      <div>\n",
              "<style scoped>\n",
              "    .dataframe tbody tr th:only-of-type {\n",
              "        vertical-align: middle;\n",
              "    }\n",
              "\n",
              "    .dataframe tbody tr th {\n",
              "        vertical-align: top;\n",
              "    }\n",
              "\n",
              "    .dataframe thead th {\n",
              "        text-align: right;\n",
              "    }\n",
              "</style>\n",
              "<table border=\"1\" class=\"dataframe\">\n",
              "  <thead>\n",
              "    <tr style=\"text-align: right;\">\n",
              "      <th></th>\n",
              "      <th>TotLen Fwd Pkts</th>\n",
              "      <th>Fwd Pkt Len Max</th>\n",
              "      <th>Fwd Pkt Len Mean</th>\n",
              "      <th>Flow Byts/s</th>\n",
              "      <th>Fwd IAT Mean</th>\n",
              "      <th>Fwd IAT Std</th>\n",
              "      <th>Fwd IAT Min</th>\n",
              "      <th>Fwd Header Len</th>\n",
              "      <th>Pkt Len Max</th>\n",
              "      <th>Pkt Size Avg</th>\n",
              "      <th>Predict</th>\n",
              "    </tr>\n",
              "  </thead>\n",
              "  <tbody>\n",
              "    <tr>\n",
              "      <th>0</th>\n",
              "      <td>275.0</td>\n",
              "      <td>168.0</td>\n",
              "      <td>22.916667</td>\n",
              "      <td>2.528723</td>\n",
              "      <td>9.886356e+06</td>\n",
              "      <td>7.184148e+06</td>\n",
              "      <td>38.0</td>\n",
              "      <td>260</td>\n",
              "      <td>168.0</td>\n",
              "      <td>11.956522</td>\n",
              "      <td>1</td>\n",
              "    </tr>\n",
              "    <tr>\n",
              "      <th>1</th>\n",
              "      <td>274.0</td>\n",
              "      <td>168.0</td>\n",
              "      <td>22.833333</td>\n",
              "      <td>2.519538</td>\n",
              "      <td>9.886319e+06</td>\n",
              "      <td>7.184201e+06</td>\n",
              "      <td>70.0</td>\n",
              "      <td>260</td>\n",
              "      <td>168.0</td>\n",
              "      <td>11.913043</td>\n",
              "      <td>1</td>\n",
              "    </tr>\n",
              "    <tr>\n",
              "      <th>2</th>\n",
              "      <td>277.0</td>\n",
              "      <td>168.0</td>\n",
              "      <td>23.083333</td>\n",
              "      <td>2.547134</td>\n",
              "      <td>9.886287e+06</td>\n",
              "      <td>7.184243e+06</td>\n",
              "      <td>31.0</td>\n",
              "      <td>260</td>\n",
              "      <td>168.0</td>\n",
              "      <td>12.043478</td>\n",
              "      <td>1</td>\n",
              "    </tr>\n",
              "    <tr>\n",
              "      <th>3</th>\n",
              "      <td>275.0</td>\n",
              "      <td>168.0</td>\n",
              "      <td>22.916667</td>\n",
              "      <td>2.528748</td>\n",
              "      <td>9.886268e+06</td>\n",
              "      <td>7.184264e+06</td>\n",
              "      <td>54.0</td>\n",
              "      <td>260</td>\n",
              "      <td>168.0</td>\n",
              "      <td>11.956522</td>\n",
              "      <td>1</td>\n",
              "    </tr>\n",
              "    <tr>\n",
              "      <th>4</th>\n",
              "      <td>274.0</td>\n",
              "      <td>168.0</td>\n",
              "      <td>22.833333</td>\n",
              "      <td>2.519559</td>\n",
              "      <td>9.886247e+06</td>\n",
              "      <td>7.184285e+06</td>\n",
              "      <td>36.0</td>\n",
              "      <td>260</td>\n",
              "      <td>168.0</td>\n",
              "      <td>11.913043</td>\n",
              "      <td>1</td>\n",
              "    </tr>\n",
              "    <tr>\n",
              "      <th>...</th>\n",
              "      <td>...</td>\n",
              "      <td>...</td>\n",
              "      <td>...</td>\n",
              "      <td>...</td>\n",
              "      <td>...</td>\n",
              "      <td>...</td>\n",
              "      <td>...</td>\n",
              "      <td>...</td>\n",
              "      <td>...</td>\n",
              "      <td>...</td>\n",
              "      <td>...</td>\n",
              "    </tr>\n",
              "    <tr>\n",
              "      <th>145</th>\n",
              "      <td>277.0</td>\n",
              "      <td>168.0</td>\n",
              "      <td>23.083333</td>\n",
              "      <td>2.635491</td>\n",
              "      <td>9.554881e+06</td>\n",
              "      <td>7.574734e+06</td>\n",
              "      <td>23.0</td>\n",
              "      <td>260</td>\n",
              "      <td>168.0</td>\n",
              "      <td>12.043478</td>\n",
              "      <td>1</td>\n",
              "    </tr>\n",
              "    <tr>\n",
              "      <th>146</th>\n",
              "      <td>277.0</td>\n",
              "      <td>168.0</td>\n",
              "      <td>23.083333</td>\n",
              "      <td>2.635495</td>\n",
              "      <td>9.554868e+06</td>\n",
              "      <td>7.574750e+06</td>\n",
              "      <td>22.0</td>\n",
              "      <td>260</td>\n",
              "      <td>168.0</td>\n",
              "      <td>12.043478</td>\n",
              "      <td>1</td>\n",
              "    </tr>\n",
              "    <tr>\n",
              "      <th>147</th>\n",
              "      <td>275.0</td>\n",
              "      <td>168.0</td>\n",
              "      <td>22.916667</td>\n",
              "      <td>2.616471</td>\n",
              "      <td>9.554854e+06</td>\n",
              "      <td>7.574769e+06</td>\n",
              "      <td>22.0</td>\n",
              "      <td>260</td>\n",
              "      <td>168.0</td>\n",
              "      <td>11.956522</td>\n",
              "      <td>1</td>\n",
              "    </tr>\n",
              "    <tr>\n",
              "      <th>148</th>\n",
              "      <td>276.0</td>\n",
              "      <td>168.0</td>\n",
              "      <td>23.000000</td>\n",
              "      <td>2.625988</td>\n",
              "      <td>9.554840e+06</td>\n",
              "      <td>7.574789e+06</td>\n",
              "      <td>22.0</td>\n",
              "      <td>260</td>\n",
              "      <td>168.0</td>\n",
              "      <td>12.000000</td>\n",
              "      <td>1</td>\n",
              "    </tr>\n",
              "    <tr>\n",
              "      <th>149</th>\n",
              "      <td>275.0</td>\n",
              "      <td>168.0</td>\n",
              "      <td>22.916667</td>\n",
              "      <td>2.616478</td>\n",
              "      <td>9.554826e+06</td>\n",
              "      <td>7.574808e+06</td>\n",
              "      <td>19.0</td>\n",
              "      <td>260</td>\n",
              "      <td>168.0</td>\n",
              "      <td>11.956522</td>\n",
              "      <td>1</td>\n",
              "    </tr>\n",
              "  </tbody>\n",
              "</table>\n",
              "<p>150 rows × 11 columns</p>\n",
              "</div>\n",
              "      <button class=\"colab-df-convert\" onclick=\"convertToInteractive('df-6f95f99c-4730-4cbe-86aa-1031acfe538b')\"\n",
              "              title=\"Convert this dataframe to an interactive table.\"\n",
              "              style=\"display:none;\">\n",
              "        \n",
              "  <svg xmlns=\"http://www.w3.org/2000/svg\" height=\"24px\"viewBox=\"0 0 24 24\"\n",
              "       width=\"24px\">\n",
              "    <path d=\"M0 0h24v24H0V0z\" fill=\"none\"/>\n",
              "    <path d=\"M18.56 5.44l.94 2.06.94-2.06 2.06-.94-2.06-.94-.94-2.06-.94 2.06-2.06.94zm-11 1L8.5 8.5l.94-2.06 2.06-.94-2.06-.94L8.5 2.5l-.94 2.06-2.06.94zm10 10l.94 2.06.94-2.06 2.06-.94-2.06-.94-.94-2.06-.94 2.06-2.06.94z\"/><path d=\"M17.41 7.96l-1.37-1.37c-.4-.4-.92-.59-1.43-.59-.52 0-1.04.2-1.43.59L10.3 9.45l-7.72 7.72c-.78.78-.78 2.05 0 2.83L4 21.41c.39.39.9.59 1.41.59.51 0 1.02-.2 1.41-.59l7.78-7.78 2.81-2.81c.8-.78.8-2.07 0-2.86zM5.41 20L4 18.59l7.72-7.72 1.47 1.35L5.41 20z\"/>\n",
              "  </svg>\n",
              "      </button>\n",
              "      \n",
              "  <style>\n",
              "    .colab-df-container {\n",
              "      display:flex;\n",
              "      flex-wrap:wrap;\n",
              "      gap: 12px;\n",
              "    }\n",
              "\n",
              "    .colab-df-convert {\n",
              "      background-color: #E8F0FE;\n",
              "      border: none;\n",
              "      border-radius: 50%;\n",
              "      cursor: pointer;\n",
              "      display: none;\n",
              "      fill: #1967D2;\n",
              "      height: 32px;\n",
              "      padding: 0 0 0 0;\n",
              "      width: 32px;\n",
              "    }\n",
              "\n",
              "    .colab-df-convert:hover {\n",
              "      background-color: #E2EBFA;\n",
              "      box-shadow: 0px 1px 2px rgba(60, 64, 67, 0.3), 0px 1px 3px 1px rgba(60, 64, 67, 0.15);\n",
              "      fill: #174EA6;\n",
              "    }\n",
              "\n",
              "    [theme=dark] .colab-df-convert {\n",
              "      background-color: #3B4455;\n",
              "      fill: #D2E3FC;\n",
              "    }\n",
              "\n",
              "    [theme=dark] .colab-df-convert:hover {\n",
              "      background-color: #434B5C;\n",
              "      box-shadow: 0px 1px 3px 1px rgba(0, 0, 0, 0.15);\n",
              "      filter: drop-shadow(0px 1px 2px rgba(0, 0, 0, 0.3));\n",
              "      fill: #FFFFFF;\n",
              "    }\n",
              "  </style>\n",
              "\n",
              "      <script>\n",
              "        const buttonEl =\n",
              "          document.querySelector('#df-6f95f99c-4730-4cbe-86aa-1031acfe538b button.colab-df-convert');\n",
              "        buttonEl.style.display =\n",
              "          google.colab.kernel.accessAllowed ? 'block' : 'none';\n",
              "\n",
              "        async function convertToInteractive(key) {\n",
              "          const element = document.querySelector('#df-6f95f99c-4730-4cbe-86aa-1031acfe538b');\n",
              "          const dataTable =\n",
              "            await google.colab.kernel.invokeFunction('convertToInteractive',\n",
              "                                                     [key], {});\n",
              "          if (!dataTable) return;\n",
              "\n",
              "          const docLinkHtml = 'Like what you see? Visit the ' +\n",
              "            '<a target=\"_blank\" href=https://colab.research.google.com/notebooks/data_table.ipynb>data table notebook</a>'\n",
              "            + ' to learn more about interactive tables.';\n",
              "          element.innerHTML = '';\n",
              "          dataTable['output_type'] = 'display_data';\n",
              "          await google.colab.output.renderOutput(dataTable, element);\n",
              "          const docLink = document.createElement('div');\n",
              "          docLink.innerHTML = docLinkHtml;\n",
              "          element.appendChild(docLink);\n",
              "        }\n",
              "      </script>\n",
              "    </div>\n",
              "  </div>\n",
              "  "
            ]
          },
          "metadata": {},
          "execution_count": 63
        }
      ],
      "source": [
        "result[result['Predict'] == 1]"
      ]
    },
    {
      "cell_type": "code",
      "source": [],
      "metadata": {
        "id": "3wRPCPLt1FJ4"
      },
      "execution_count": null,
      "outputs": []
    },
    {
      "cell_type": "markdown",
      "source": [
        "# New section"
      ],
      "metadata": {
        "id": "ONUzm7QL1GIa"
      }
    },
    {
      "cell_type": "code",
      "source": [
        "import pandas as pd\n",
        "import numpy as np\n",
        "from sklearn import preprocessing\n",
        "import matplotlib.pyplot as plt\n",
        "%matplotlib inline\n",
        "Download the dataset from Github to Google Colab and unzip it.\n",
        "\n",
        "!wget https://github.com/fisher85/ml-cybersecurity/blob/master/python-web-attack-detection/datasets/Thursday-WorkingHours-Morning-WebAttacks.pcap_ISCX.csv.zip?raw=true -O dataset.zip\n",
        "!unzip -u dataset.zip\n",
        "We use \"engine=python\" to avoid the \"UnicodeDecodeError: 'utf-8' codec can't decode byte 0x96 in position 11: invalid start byte\" encoding error.\n",
        "\n",
        "df = pd.read_csv('Thursday-WorkingHours-Morning-WebAttacks.pcap_ISCX.csv', engine='python')\n",
        "Thursday-WorkingHours-Morning-WebAttacks.pcap_ISCX.csv file contains 458968 records, 85 columns.\n",
        "\n",
        "df.shape\n",
        "(458968, 85)\n",
        "The columns \"Fwd Header Length\" and \"Fwd Header Length.1\" are identical, the second one is removed, 84 columns remain.\n",
        "\n",
        "df.columns = df.columns.str.strip()\n",
        "df = df.drop(columns=['Fwd Header Length.1'])\n",
        "df.shape\n",
        "(458968, 84)\n",
        "When assessing the distribution of labels, it turns out that out of 458968 records there are many blank records (\"BENIGN\" - benign background traffic).\n",
        "\n",
        "df['Label'].unique()\n",
        "array(['BENIGN', 'Web Attack – Brute Force', 'Web Attack – XSS',\n",
        "       'Web Attack – Sql Injection', nan], dtype=object)\n",
        "df['Label'].value_counts()\n",
        "BENIGN                        168186\n",
        "Web Attack – Brute Force        1507\n",
        "Web Attack – XSS                 652\n",
        "Web Attack – Sql Injection        21\n",
        "Name: Label, dtype: int64\n",
        "Delete blank records.\n",
        "\n",
        "df = df.drop(df[pd.isnull(df['Flow ID'])].index)\n",
        "df.shape\n",
        "(170366, 84)\n",
        "The \"Flow Bytes/s\" and \"Flow Packets/s\" columns have non-numerical values, replace them.\n",
        "\n",
        "df.replace('Infinity', -1, inplace=True)\n",
        "df[[\"Flow Bytes/s\", \"Flow Packets/s\"]] = df[[\"Flow Bytes/s\", \"Flow Packets/s\"]].apply(pd.to_numeric)\n",
        "Replace the NaN values and infinity values with -1.\n",
        "\n",
        "df.replace([np.inf, -np.inf, np.nan], -1, inplace=True)\n",
        "Convert string characters to numbers, use LabelEncoder, not OneHotEncoder.\n",
        "\n",
        "string_features = list(df.select_dtypes(include=['object']).columns)\n",
        "string_features.remove('Label')\n",
        "string_features\n",
        "['Flow ID', 'Source IP', 'Destination IP', 'Timestamp']\n",
        "le = preprocessing.LabelEncoder()\n",
        "df[string_features] = df[string_features].apply(lambda col: le.fit_transform(col))"
      ],
      "metadata": {
        "colab": {
          "base_uri": "https://localhost:8080/",
          "height": 133
        },
        "id": "GL7pjdVJxzxT",
        "outputId": "8654e1b8-1250-4672-b6eb-5604c5547b54"
      },
      "execution_count": null,
      "outputs": [
        {
          "output_type": "error",
          "ename": "SyntaxError",
          "evalue": "ignored",
          "traceback": [
            "\u001b[0;36m  File \u001b[0;32m\"<ipython-input-1-dcd15d17f203>\"\u001b[0;36m, line \u001b[0;32m3\u001b[0m\n\u001b[0;31m    from sklearn import preprocessing import matplotlib.pyplot as plt %matplotlib inline\u001b[0m\n\u001b[0m                                      ^\u001b[0m\n\u001b[0;31mSyntaxError\u001b[0m\u001b[0;31m:\u001b[0m invalid syntax\n"
          ]
        }
      ]
    },
    {
      "cell_type": "code",
      "source": [
        "          str(round(np.mean(recall),2)),str(round(np.mean(f1),2)),str(round(np.mean(t_time),4))))#the result of the ten repetitions is printed on the screen.\n",
        "\n",
        "        with open(result, \"a\", newline=\"\",encoding=\"utf-8\") as f: # all the values found are saved in the opened file.\n",
        "            wrt = csv.writer(f)\n",
        "            for i in range(0,len(t_time)):\n",
        "                wrt.writerow([j[0:-4],ii,accuracy[i],precision[i],recall[i],f1[i],t_time[i]])#file name, algorithm name, precision, recall and f-measure are writed in CSV file\n",
        "        a.append(f1)\n",
        "\n",
        "\n",
        "     # In this section, Box graphics are created for the results of machine learning algorithms and saved in the feaure_graph folder.\n",
        "\n",
        "\n",
        "    ml=[\"Naive Bayes\",\"QDA\",\"Random Forest\",\"ID3\",\"AdaBoost\",\"MLP\",\"Nearest Neighbors\"]\n",
        "    temp=0\n",
        "    fig, axes = plt.subplots(nrows=2, ncols=4, figsize=(12, 6), sharey=True)\n",
        "    for c in range(2):\n",
        "        for b in range(4):\n",
        "            axes[c, b].boxplot(a[temp] )\n",
        "            axes[c, b].set_title(str(j[0:-4])+\" - \"+str(ml[temp]),fontsize=7)\n",
        "            axes[c, b].set_ylabel((\"F measure\"))\n",
        "            temp+=1\n",
        "            if temp==7:\n",
        "                break\n",
        "        if temp==7:\n",
        "            break\n",
        "    plt.savefig(folder_name+j[0:-4]+\".pdf\",bbox_inches='tight', papertype = 'a4', orientation = 'portrait', format = 'pdf')\n",
        "    plt.show()\n",
        "    print(\"\\n------------------------------------------------------------------------------------------------------\\n\\n\")\n",
        "\n",
        "print(\"mission accomplished!\")\n",
        "print(\"Total operation time: = \",time.time()- seconds ,\"seconds\""
      ],
      "metadata": {
        "id": "4_W0VDZ3zKkd"
      },
      "execution_count": null,
      "outputs": []
    },
    {
      "cell_type": "code",
      "source": [],
      "metadata": {
        "id": "-bsiQUcSzZmo"
      },
      "execution_count": null,
      "outputs": []
    },
    {
      "cell_type": "code",
      "source": [
        "from google.colab import drive drive.mount('/content/drive')\n"
      ],
      "metadata": {
        "colab": {
          "base_uri": "https://localhost:8080/",
          "height": 133
        },
        "id": "Sz4irb0ZzZpJ",
        "outputId": "489a259b-78e2-454a-ff0e-7d9ee2650fc1"
      },
      "execution_count": null,
      "outputs": [
        {
          "output_type": "error",
          "ename": "SyntaxError",
          "evalue": "ignored",
          "traceback": [
            "\u001b[0;36m  File \u001b[0;32m\"<ipython-input-2-bef4834a9fb4>\"\u001b[0;36m, line \u001b[0;32m1\u001b[0m\n\u001b[0;31m    from google.colab import drive drive.mount('/content/drive')\u001b[0m\n\u001b[0m                                   ^\u001b[0m\n\u001b[0;31mSyntaxError\u001b[0m\u001b[0;31m:\u001b[0m invalid syntax\n"
          ]
        }
      ]
    },
    {
      "cell_type": "code",
      "source": [],
      "metadata": {
        "id": "gtPyk34Y0iH0"
      },
      "execution_count": null,
      "outputs": []
    },
    {
      "cell_type": "code",
      "source": [
        "from sklearn import metrics\n",
        "from sklearn.discriminant_analysis import QuadraticDiscriminantAnalysis as QDA\n",
        "from sklearn.ensemble import ExtraTreesClassifier\n",
        "from sklearn.ensemble import RandomForestClassifier, AdaBoostClassifier\n",
        "from sklearn.metrics import average_precision_score\n",
        "from sklearn.metrics import confusion_matrix\n",
        "from sklearn.model_selection import train_test_split\n",
        "from sklearn.naive_bayes import GaussianNB\n",
        "from sklearn.neighbors import KNeighborsClassifier\n",
        "from sklearn.neural_network import MLPClassifier\n",
        "from sklearn.tree import DecisionTreeClassifier\n",
        "\n",
        "from sklearn.metrics import f1_score\n",
        "from sklearn.metrics import recall_score\n",
        "from sklearn.metrics import precision_score\n",
        "\n",
        "\n",
        "import matplotlib.pyplot as plt\n",
        "import numpy as np\n",
        "%matplotlib inline\n",
        "import os\n",
        "import pandas as pd\n",
        "import csv\n",
        "import time\n",
        "import warnings\n",
        "import math\n",
        "warnings.filterwarnings(\"ignore\")\n",
        "\n",
        "\n",
        "result=\"./results/results_1.csv\" #a CSV file is named in which the results are saved.\n",
        "csv_files=os.listdir(\"attacks\")# CSV files names: #The names of the files in the attacks folder are taken and assigned to a list (csv_files).\n",
        "path=\".\\\\attacks\\\\\"\n",
        "repetition=10\n",
        "\n",
        "\n",
        "def folder(f_name): #this function creates a folder named \"results\" and \"result_graph_1\" in the program directory.\n",
        "    try:\n",
        "        if not os.path.exists(f_name):\n",
        "            os.makedirs(f_name)\n",
        "    except OSError:\n",
        "        print (\"The folder could not be created!\")\n",
        "\n",
        "folder_name=\"./results/\"\n",
        "folder(folder_name)\n",
        "folder_name=\"./results/result_graph_1/\"\n",
        "folder(folder_name)\n",
        "\n",
        "\n",
        "#The machine learning algorithms to be used are defined in a dictionary (ml_list).\n",
        "ml_list={\n",
        "\"Naive Bayes\":GaussianNB(),\n",
        "\"QDA\":QDA(),\n",
        "\"Random Forest\":RandomForestClassifier(max_depth=5, n_estimators=10, max_features=1),\n",
        "\"ID3\" :DecisionTreeClassifier(max_depth=5,criterion=\"entropy\"),\n",
        "\"AdaBoost\":AdaBoostClassifier(),\n",
        "\"MLP\":MLPClassifier(hidden_layer_sizes=(13,13,13),max_iter=500),\n",
        "\"Nearest Neighbors\":KNeighborsClassifier(3)}\n",
        "\n",
        "\n",
        "\n",
        "# the features to be used for each attack type is defined in a dictionary(features).\n",
        "# the first 4 of the features created by the file \"04_1_feature_selection_for_attack_files.py\" are used here.\n",
        "features={\"Bot\":[\"Bwd Packet Length Mean\",\"Flow IAT Max\",\"Flow Duration\",\"Flow IAT Min\",\"Label\"],\n",
        "\"DDoS\":[\"Bwd Packet Length Std\",\"Total Backward Packets\",\"Fwd IAT Total\",\"Flow Duration\",\"Label\"],\n",
        "\"DoS GoldenEye\":[\"Flow IAT Max\",\"Bwd Packet Length Std\",\"Flow IAT Min\",\"Total Backward Packets\",\"Label\"],\n",
        "\"DoS Hulk\":[\"Bwd Packet Length Std\",\"Fwd Packet Length Std\",\"Fwd Packet Length Max\",\"Flow IAT Min\",\"Label\"],\n",
        "\"DoS Slowhttptest\":[\"Flow IAT Mean\",\"Fwd Packet Length Min\",\"Bwd Packet Length Mean\",\"Total Length of Bwd Packets\",\"Label\"],\n",
        "\"DoS slowloris\":[\"Flow IAT Mean\",\"Total Length of Bwd Packets\",\"Bwd Packet Length Mean\",\"Total Fwd Packets\",\"Label\"],\n",
        "\"FTP-Patator\":[\"Fwd Packet Length Max\",\"Fwd Packet Length Std\",\"Fwd Packet Length Mean\",\"Bwd Packet Length Std\",\"Label\"],\n",
        "\"Heartbleed\":[\"Total Backward Packets\",\"Fwd Packet Length Max\",\"Flow IAT Min\",\"Bwd Packet Length Max\",\"Label\"],\n",
        "\"Infiltration\":[\"Fwd Packet Length Max\",\"Fwd Packet Length Mean\",\"Flow Duration\",\"Total Length of Fwd Packets\",\"Label\"],\n",
        "\"PortScan\":[\"Flow Bytes/s\",\"Total Length of Fwd Packets\",\"Fwd IAT Total\",\"Flow Duration\",\"Label\"],\n",
        "\"SSH-Patator\":[\"Fwd Packet Length Max\",\"Flow Duration\",\"Flow IAT Max\",\"Total Length of Fwd Packets\",\"Label\"],\n",
        "\"Web Attack\":[\"Bwd Packet Length Std\",\"Total Length of Fwd Packets\",\"Flow Bytes/s\",\"Flow IAT Max\",\"Label\"]}\n",
        "\n",
        "seconds=time.time()#time stamp for all processing time\n",
        "\n",
        "\n",
        "\n",
        "with open(result, \"w\", newline=\"\",encoding=\"utf-8\") as f:#a CSV file is created to save the results obtained.\n",
        "    wrt = csv.writer(f)\n",
        "    wrt.writerow([\"File\",\"ML algorithm\",\"accuracy\",\"Precision\", \"Recall\" , \"F1-score\",\"Time\"])\n",
        "\n",
        "\n",
        "\n",
        "\n",
        "for j in csv_files: #this loop runs on the list containing the filenames.Operations are repeated for all attack files\n",
        "    print ('%-17s %-17s  %-15s %-15s %-15s %-15s %-15s' % (\"File\",\"ML algorithm\",\"accuracy\",\"Precision\", \"Recall\" , \"F1-score\",\"Time\"))# print output header\n",
        "    a=[]\n",
        "\n",
        "    feature_list=list(features[j[0:-4]])\n",
        "    df=pd.read_csv(path+j,usecols=feature_list)#read an attack file.\n",
        "    df=df.fillna(0)\n",
        "    attack_or_not=[]\n",
        "    for i in df[\"Label\"]: #it changes the normal label to \"1\" and the attack tag to \"0\" for use in the machine learning algorithm\n",
        "\n",
        "        if i ==\"BENIGN\":\n",
        "            attack_or_not.append(1)\n",
        "        else:\n",
        "            attack_or_not.append(0)\n",
        "    df[\"Label\"]=attack_or_not\n",
        "\n",
        "\n",
        "    y = df[\"Label\"] #this section separates the label and the data into two separate pieces, as Label=y Data=X\n",
        "    del df[\"Label\"]\n",
        "    feature_list.remove('Label')\n",
        "    X = df[feature_list]\n",
        "\n",
        "\n",
        "    for ii in ml_list: #this loop runs on the list containing the machine learning algorithm names. Operations are repeated for all the 7 algorithm\n",
        "        precision=[]\n",
        "        recall=[]\n",
        "        f1=[]\n",
        "        accuracy=[]\n",
        "        t_time=[]\n",
        "        for i in range(repetition): # This loop allows cross-validation and machine learning algorithm to be repeated 10 times\n",
        "            second=time.time()#time stamp for processing time\n",
        "\n",
        "            # cross-validation\n",
        "            X_train, X_test, y_train, y_test = train_test_split(X, y,#  data (X) and labels (y) are divided into 2 parts to be sent to the machine learning algorithm (80% train,%20 test).\n",
        "                test_size = 0.20, random_state = repetition)#  So, in total there are 4 tracks: training data(X_train), training tag (y_train), test data(X_test) and test tag(y_test).\n",
        "\n",
        "\n",
        "            #machine learning algorithm is applied in this section\n",
        "            clf = ml_list[ii]#choose algorithm from ml_list dictionary\n",
        "            clf.fit(X_train, y_train)\n",
        "            predict =clf.predict(X_test)\n",
        "\n",
        "            #makes \"classification report\" and assigns the precision, f-measure, and recall values.s.\n",
        "\n",
        "            f_1=f1_score(y_test, predict, average='macro')\n",
        "            pr=precision_score(y_test, predict, average='macro')\n",
        "            rc=recall_score(y_test, predict, average='macro')\n",
        "\n",
        "\n",
        "\n",
        "\n",
        "\n",
        "            precision.append(float(pr))\n",
        "            recall.append(float(rc))\n",
        "            f1.append(float(f_1))\n",
        "            accuracy.append(clf.score(X_test, y_test))\n",
        "            t_time.append(float((time.time()-second)) )\n",
        "\n",
        "\n",
        "\n",
        "        print ('%-17s %-17s  %-15s %-15s %-15s %-15s %-15s' % (j[0:-4],ii,str(round(np.mean(accuracy),2)),str(round(np.mean(precision),2)),\n",
        "            str(round(np.mean(recall),2)),str(round(np.mean(f1),2)),str(round(np.mean(t_time),4))))#the result of the ten repetitions is printed on the screen.\n",
        "\n",
        "        with open(result, \"a\", newline=\"\",encoding=\"utf-8\") as f: # all the values found are saved in the opened file.\n",
        "            wrt = csv.writer(f)\n",
        "            for i in range(0,len(t_time)):\n",
        "                wrt.writerow([j[0:-4],ii,accuracy[i],precision[i],recall[i],f1[i],t_time[i]])#file name, algorithm name, precision, recall and f-measure are writed in CSV file\n",
        "        a.append(f1)\n",
        "\n",
        "\n",
        "     # In this section, Box graphics are created for the results of machine learning algorithms and saved in the feaure_graph folder.\n",
        "\n",
        "\n",
        "    ml=[\"Naive Bayes\",\"QDA\",\"Random Forest\",\"ID3\",\"AdaBoost\",\"MLP\",\"Nearest Neighbors\"]\n",
        "    temp=0\n",
        "    fig, axes = plt.subplots(nrows=2, ncols=4, figsize=(12, 6), sharey=True)\n",
        "    for c in range(2):\n",
        "        for b in range(4):\n",
        "            axes[c, b].boxplot(a[temp] )\n",
        "            axes[c, b].set_title(str(j[0:-4])+\" - \"+str(ml[temp]),fontsize=7)\n",
        "            axes[c, b].set_ylabel((\"F measure\"))\n",
        "            temp+=1\n",
        "            if temp==7:\n",
        "                break\n",
        "        if temp==7:\n",
        "            break\n",
        "    plt.savefig(folder_name+j[0:-4]+\".pdf\",bbox_inches='tight', papertype = 'a4', orientation = 'portrait', format = 'pdf')\n",
        "    plt.show()\n",
        "    print(\"\\n------------------------------------------------------------------------------------------------------\\n\\n\")\n",
        "\n",
        "print(\"mission accomplished!\")\n",
        "print(\"Total operation time: = \",time.time()- seconds ,\"seconds\")"
      ],
      "metadata": {
        "id": "Wju9ZTwRzurv"
      },
      "execution_count": null,
      "outputs": []
    }
  ]
}